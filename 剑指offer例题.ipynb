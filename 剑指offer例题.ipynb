{
  "nbformat": 4,
  "nbformat_minor": 0,
  "metadata": {
    "colab": {
      "name": "剑指offer例题.ipynb",
      "provenance": [],
      "collapsed_sections": [],
      "authorship_tag": "ABX9TyNl9p8OKzi5tS86o3LL5Yss",
      "include_colab_link": true
    },
    "kernelspec": {
      "name": "python3",
      "display_name": "Python 3"
    }
  },
  "cells": [
    {
      "cell_type": "markdown",
      "metadata": {
        "id": "view-in-github",
        "colab_type": "text"
      },
      "source": [
        "<a href=\"https://colab.research.google.com/github/dwdb/python-notes/blob/master/%E5%89%91%E6%8C%87offer%E4%BE%8B%E9%A2%98.ipynb\" target=\"_parent\"><img src=\"https://colab.research.google.com/assets/colab-badge.svg\" alt=\"Open In Colab\"/></a>"
      ]
    },
    {
      "cell_type": "markdown",
      "metadata": {
        "id": "KpwqxzBZ4VYO",
        "colab_type": "text"
      },
      "source": [
        "# 剑指offer例题"
      ]
    },
    {
      "cell_type": "markdown",
      "metadata": {
        "id": "8pAQhAiDMMF2",
        "colab_type": "text"
      },
      "source": [
        "# 面试题3. 找出数组中的重复数字"
      ]
    },
    {
      "cell_type": "markdown",
      "metadata": {
        "id": "guYAnHdsMMR8",
        "colab_type": "text"
      },
      "source": [
        "题目一：找出数组中的重复数字\n",
        "\n",
        "在一个长度为n的数组里的所有数字都在0~n-1范围内。数组中某些数字是重复的，但不知道有几个数字重复，也不知道每个数字重复了几次。请找出数组中任意一个重复数字，例如，如果输入长度为7的数组{2,3,1,0,2,5,3}，那么对应的输出是重复数字2或者3。"
      ]
    },
    {
      "cell_type": "code",
      "metadata": {
        "id": "92d1BxA1MR9w",
        "colab_type": "code",
        "colab": {
          "base_uri": "https://localhost:8080/",
          "height": 51
        },
        "outputId": "97e14432-1bf9-46fb-e2bf-eca9ddefb251"
      },
      "source": [
        "def duplicate1(array):\n",
        "    \"\"\"\n",
        "    时间复杂度O(n)，空间复杂度O(n)，使用长度为n的辅助数组\n",
        "    \"\"\"\n",
        "    num_count = [0] * len(array)\n",
        "    dup_nums = []\n",
        "    for num in array:\n",
        "        if num_count[num] == 0:\n",
        "            num_count[num] = 1\n",
        "        else:\n",
        "            dup_nums.append(num)\n",
        "    return dup_nums\n",
        "\n",
        "\n",
        "def duplicate2(array):\n",
        "    \"\"\"\n",
        "    时间复杂度O(n)，空间复杂度O(1)，基于交换思想\n",
        "    \"\"\"\n",
        "    dup_nums = []\n",
        "    i = 0\n",
        "    while i < len(array):\n",
        "        num = array[i]\n",
        "        # 当前元素值与索引相同，计数加1\n",
        "        if num == i:\n",
        "            i += 1\n",
        "        # 当前元素与目标索引元素相同，找到重复元素，计数加1\n",
        "        elif num == array[num]:\n",
        "            dup_nums.append(num)\n",
        "            i += 1\n",
        "        # 当前元素大于当前索引值，计数不加1\n",
        "        elif num > i:\n",
        "            array[i], array[num] =array[num], num\n",
        "        else:\n",
        "            i += 1\n",
        "    return dup_nums\n",
        "\n",
        "\n",
        "array = [2, 3, 1, 0, 2, 5, 3]\n",
        "print(duplicate1(array))\n",
        "print(duplicate2(array))"
      ],
      "execution_count": null,
      "outputs": [
        {
          "output_type": "stream",
          "text": [
            "[2, 3]\n",
            "[2, 3]\n"
          ],
          "name": "stdout"
        }
      ]
    },
    {
      "cell_type": "markdown",
      "metadata": {
        "id": "dHbNPHaPZRin",
        "colab_type": "text"
      },
      "source": [
        "题目二：不修改数组找出重复数字\n",
        "\n",
        "在一个长度为n+1的数组里的所有数组都在1~n的范围内，所有数组中至少有一个数字重复的。请找出数组中任意一个重复的数字，但不能修改输入数组。例如，如果输入长度为8的数组{2,3,5,4,3,2,6,7}，那么输出是重复数字2或3。"
      ]
    },
    {
      "cell_type": "code",
      "metadata": {
        "id": "rbozEZO7ZcgS",
        "colab_type": "code",
        "colab": {
          "base_uri": "https://localhost:8080/",
          "height": 51
        },
        "outputId": "0c17d29a-d306-4853-ecb6-4822f975f69c"
      },
      "source": [
        "def count_range(array, start, end):\n",
        "    count = 0\n",
        "    for num in array:\n",
        "        if start <= num <= end:\n",
        "            count += 1\n",
        "    return count\n",
        "\n",
        "\n",
        "def duplicate3(array):\n",
        "    \"\"\"二分查找，时间复杂度O(nlogn)，空间复杂度O(1)\"\"\"\n",
        "    # 数组元素值小于等于length-1\n",
        "    start, end = 1, len(array) - 1\n",
        "    count = 0\n",
        "    while True:\n",
        "        mid = int((end + start) / 2)\n",
        "        # [start,mid]区间数字数目大于mid-start+1，则此区间一定存在重复数字\n",
        "        count = count_range(array, start, mid)\n",
        "        if start == end:\n",
        "            return start if count > 1 else None\n",
        "        if count > mid - start + 1:\n",
        "            start, end = start, mid\n",
        "        else:\n",
        "            start, end = mid + 1, end\n",
        "\n",
        "\n",
        "array = [2, 3, 5, 4, 3, 2, 6, 7]\n",
        "print(duplicate3(array))\n",
        "array = [2, 3, 5, 4, 1, 2, 6, 7]\n",
        "print(duplicate3(array))"
      ],
      "execution_count": null,
      "outputs": [
        {
          "output_type": "stream",
          "text": [
            "3\n",
            "2\n"
          ],
          "name": "stdout"
        }
      ]
    },
    {
      "cell_type": "markdown",
      "metadata": {
        "id": "0TjR31XYyAFA",
        "colab_type": "text"
      },
      "source": [
        "# 面试题4：二维数组中的查找\n",
        "\n",
        "题目：在一个二维数组中，每一行都按照从左到右递增的顺序排序，每一列都按照从上到下递增的顺序排序。请完成一个函数，输入这样的一个二维数组和一个整数，判断数组中是否该整数。\n",
        "\n",
        "解题思路：带查找的数为num0，随机选择二维数组中的一个数num1，若num1=num0，则找到元素，若num1>num0，则num0不可能存在于num1右下角，若num1<num0，则num0不可能存在于num1左上角。若每次选取带搜索数组的中间位置，为避免在重叠区域搜索，边界条件比较复杂。\n",
        "\n",
        "因此，每次从选择数组右上角元素，每次只排除一列或一行，逐渐缩小搜索区域/数组。\n"
      ]
    },
    {
      "cell_type": "code",
      "metadata": {
        "id": "ybj67D26gL5P",
        "colab_type": "code",
        "colab": {
          "base_uri": "https://localhost:8080/",
          "height": 34
        },
        "outputId": "9e70d3a1-6111-4b0f-8e4f-441f662cdfcb"
      },
      "source": [
        "def find_num_2darray(array, num):\n",
        "    row, column = 0, len(array[0]) - 1\n",
        "    # 比较右上角元素\n",
        "    while row < len(array) and column > -1:\n",
        "        pivot = array[row][column]\n",
        "        if num == pivot:\n",
        "            return row, column\n",
        "        # 排除pivot所在列\n",
        "        elif num < pivot:\n",
        "            column -= 1\n",
        "        # 排除pivot所在行\n",
        "        else:\n",
        "            row += 1\n",
        "    return None\n",
        "\n",
        "array = [[1,2,8,9], [2,4,9,12], [4,7,10,13], [6,8,11,15]]\n",
        "print(find_num_2darray(array, 7))"
      ],
      "execution_count": null,
      "outputs": [
        {
          "output_type": "stream",
          "text": [
            "(2, 1)\n"
          ],
          "name": "stdout"
        }
      ]
    },
    {
      "cell_type": "markdown",
      "metadata": {
        "id": "IZmhi6dczipY",
        "colab_type": "text"
      },
      "source": [
        "# 面试题5：替换空格\n",
        "\n",
        "题目：请实现一个函数，把字符串中的每个空格替换成“%20”。例如，输入“We are happy.”，则输出“We%20are%20happy.”\n",
        "\n",
        "解题思路：首先扫描一次字符串，判断需要替换的空格数，再从后向前扫描，替换字符串，时间复杂度O(n)。"
      ]
    },
    {
      "cell_type": "code",
      "metadata": {
        "id": "Qdkz3raEH3IT",
        "colab_type": "code",
        "colab": {
          "base_uri": "https://localhost:8080/",
          "height": 34
        },
        "outputId": "e10a5d34-4fb4-4c93-c80a-671b1873ff24"
      },
      "source": [
        "def replace_space(string, rep='%20'):\n",
        "    # return string.replace(' ', rep)\n",
        "    length = len(string)\n",
        "    # 模拟长度为100的字符串数组\n",
        "    string = list(string) + [''] * (100 - len(string))\n",
        "    # 计算空格数\n",
        "    count = 0\n",
        "    for char in string:\n",
        "        if char == ' ':\n",
        "            count += 1\n",
        "    if count == 0:\n",
        "        return string\n",
        "    # 替换后的总长度\n",
        "    pivot = length + (len(rep) - 1) * count - 1\n",
        "    # 从后向前扫描原始字符串\n",
        "    for i in range(length - 1, -1, -1):\n",
        "        if string[i] == ' ':\n",
        "            for char in rep:\n",
        "                string[pivot] = char\n",
        "                pivot -= 1\n",
        "        else:\n",
        "            string[pivot] = string[i]\n",
        "            pivot -= 1\n",
        "    return ''.join(string)\n",
        "\n",
        "\n",
        "string = 'We are happy.'\n",
        "replace_space(string, '%20')"
      ],
      "execution_count": null,
      "outputs": [
        {
          "output_type": "execute_result",
          "data": {
            "text/plain": [
              "'We02%are02%happy.'"
            ]
          },
          "metadata": {
            "tags": []
          },
          "execution_count": 72
        }
      ]
    },
    {
      "cell_type": "markdown",
      "metadata": {
        "id": "2D3dIUjSL8BY",
        "colab_type": "text"
      },
      "source": [
        "# 面试题7：重建二叉树\n",
        "\n",
        "题目：输入某二叉树的前序遍历和中序遍历的结果，请重建该二叉树。假设输入的前序和中序遍历的结果都不含重复的数字。例如，输入前序遍历序列{1,2,4,7,3,5,6,8}和中序遍历序列{4,7,2,1,5,3,8,6}，则重建如图2.6所示的二叉树并输出它的头节点。\n",
        "\n",
        "```python\n",
        "     1\n",
        "   /   \\\n",
        "  2     3\n",
        " /     / \\\n",
        "4     5   6\n",
        " \\       /\n",
        "  7     8\n",
        "```\n",
        "\n",
        "解题思路：前序遍历序列的第一个数字1就是根节点的值，中序遍历序列数字1左边的值都是齐左子树节点，可利用递归完成二叉树重建。"
      ]
    },
    {
      "cell_type": "code",
      "metadata": {
        "id": "i-fJIBd07LYq",
        "colab_type": "code",
        "colab": {
          "base_uri": "https://localhost:8080/",
          "height": 51
        },
        "outputId": "d36ddd58-c983-4ef8-8d75-6d1a9ba7bf65"
      },
      "source": [
        "def pre_order(root):\n",
        "    nodes = []\n",
        "    if root:\n",
        "        nodes.append(root.value)\n",
        "        nodes.extend(pre_order(root.left))\n",
        "        nodes.extend(pre_order(root.right))\n",
        "    return nodes\n",
        "\n",
        "\n",
        "def mid_order(root, nodes=None):\n",
        "    nodes = []\n",
        "    if root:\n",
        "       nodes.extend(mid_order(root.left))\n",
        "       nodes.append(root.value)\n",
        "       nodes.extend(mid_order(root.right))\n",
        "    return nodes\n",
        "\n",
        "\n",
        "class BinaryNode:\n",
        "    def __init__(self, value, left=None, right=None):\n",
        "        self.value = value\n",
        "        self.left = left\n",
        "        self.right = right\n",
        "\n",
        "\n",
        "def rebuild_binary_tree(pre_sequence, mid_sequence):\n",
        "    \"\"\"重建二叉树\"\"\"\n",
        "    if not pre_sequence:\n",
        "        return None\n",
        "\n",
        "    root = BinaryNode(pre_sequence[0], None, None)\n",
        "    # 拆分中序遍历左右子树序列，根节点左侧元素为左子树节点，其余元素为右子树节点\n",
        "    index1 = mid_sequence.index(root.value)\n",
        "    mid_sequence_l = mid_sequence[:index1]\n",
        "    mid_sequence_r = mid_sequence[index1+1:]\n",
        "\n",
        "    # 拆分前序遍历左右子树序列，包含中序遍历左子树序列的节点集为左子树前序序列\n",
        "    index2 = len(mid_sequence_l) + 1\n",
        "    pre_sequence_l = pre_sequence[1:index2]\n",
        "    pre_sequence_r = pre_sequence[index2:]\n",
        "    root.left = rebuild_binary_tree(pre_sequence_l, mid_sequence_l)\n",
        "    root.right = rebuild_binary_tree(pre_sequence_r, mid_sequence_r)\n",
        "\n",
        "    return root\n",
        "\n",
        "pre_sequence = [1,2,4,7,3,5,6,8]\n",
        "mid_sequence = [4,7,2,1,5,3,8,6]\n",
        "root = rebuild_binary_tree(pre_sequence, mid_sequence)\n",
        "print(pre_order(root))\n",
        "print(mid_order(root))"
      ],
      "execution_count": null,
      "outputs": [
        {
          "output_type": "stream",
          "text": [
            "[1, 2, 4, 7, 3, 5, 6, 8]\n",
            "[4, 7, 2, 1, 5, 3, 8, 6]\n"
          ],
          "name": "stdout"
        }
      ]
    },
    {
      "cell_type": "markdown",
      "metadata": {
        "id": "T5Qg45ILEaL-",
        "colab_type": "text"
      },
      "source": [
        "# 面试题8：二叉树的下一个节点\n",
        "\n",
        "题目：给定一棵二叉树和其中一个节点，如何找出中序遍历序列的下一个节点？树中的节点除了有两个分别指向左、右子节点的指针，还有一个指向父节点的指针。\n",
        "\n",
        "解题思路：\n",
        "- 节点有右子树，则下一个节点为右子树的最左子节点；\n",
        "- 节点无右子树且为左子节点，则下一个节点为父节点；\n",
        "- 节点无右子树且为右子节点，则下一个节点为作为右子节点的父节点；"
      ]
    },
    {
      "cell_type": "code",
      "metadata": {
        "id": "kWymO3YUXKXy",
        "colab_type": "code",
        "colab": {
          "base_uri": "https://localhost:8080/",
          "height": 34
        },
        "outputId": "fd6cd12d-57f9-4807-e131-4c71fce02f79"
      },
      "source": [
        "class BinaryNode:\n",
        "    def __init__(self, value, left=None, right=None, father=None):\n",
        "        self.value = value\n",
        "        self.left = left\n",
        "        self.right = right\n",
        "        self.father = father\n",
        "\n",
        "\n",
        "def find_next_node(node):\n",
        "    \"\"\"找到中序遍历的下一个节点\"\"\"\n",
        "    if node.right is not None:\n",
        "        while node.left is not None:\n",
        "            node = node.left\n",
        "        return node.value\n",
        "    if node == node.father.left:\n",
        "        return node.father.value\n",
        "    if node == node.father.right:\n",
        "        node = node.father\n",
        "        while node == node.father.right:\n",
        "            node = node.father\n",
        "        if node.father is None:\n",
        "            return None\n",
        "        return node.father.value\n",
        "\n",
        "\"\"\"\n",
        "           a\n",
        "      /         \\\n",
        "     b           c\n",
        "   /   \\       /  \\\n",
        "  d     e     f    g\n",
        "       / \\   \n",
        "      h   i\n",
        "\"\"\"\n",
        "\n",
        "a = BinaryNode('a')\n",
        "b = BinaryNode('b')\n",
        "c = BinaryNode('c')\n",
        "d = BinaryNode('d')\n",
        "e = BinaryNode('e')\n",
        "f = BinaryNode('f')\n",
        "g = BinaryNode('g')\n",
        "h = BinaryNode('h')\n",
        "i = BinaryNode('i')\n",
        "a.left, a.right, a.father = b, c, None\n",
        "b.left, b.right, b.father = d, e, a\n",
        "c.left, c.right, c.father = f, g, a\n",
        "d.left, d.right, d.father = None, None, b\n",
        "e.left, e.right, e.father = h, i, b\n",
        "f.left, f.right, f.father = None, None, c\n",
        "g.left, g.right, g.father = None, None, c\n",
        "h.left, h.right, h.father = None, None, e\n",
        "i.left, i.right, i.father = None, None, e\n",
        "\n",
        "print(find_next_node(a))"
      ],
      "execution_count": null,
      "outputs": [
        {
          "output_type": "execute_result",
          "data": {
            "text/plain": [
              "'d'"
            ]
          },
          "metadata": {
            "tags": []
          },
          "execution_count": 18
        }
      ]
    },
    {
      "cell_type": "markdown",
      "metadata": {
        "id": "NrhPOxTLcyL3",
        "colab_type": "text"
      },
      "source": [
        "# 面试题9：用两个栈实现队列\n",
        "\n",
        "题目：用两个栈实现一个队列。队列的生命如下，请实现它的两个函数appendTail和deleteHead分别完成在队列尾部插入节点和在队列头部删除节点的功能。\n",
        "\n",
        "解题思路：\n",
        "- append：每次添加元素全部压入栈1；\n",
        "- pop：若栈2非空，则直接从栈2pop元素，否则将所有栈1元素压入栈2，再从栈2pop元素；\n"
      ]
    },
    {
      "cell_type": "code",
      "metadata": {
        "id": "qi05MAkB5ait",
        "colab_type": "code",
        "colab": {
          "base_uri": "https://localhost:8080/",
          "height": 102
        },
        "outputId": "dc28f4c6-3b3d-4db8-a617-7ff7b70f8780"
      },
      "source": [
        "class Queue(object):\n",
        "    def __init__(self):\n",
        "        self.stack1 = []\n",
        "        self.stack2 = []\n",
        "\n",
        "    def appendTail(self, value):\n",
        "        \"\"\"添加元素\"\"\"\n",
        "        self.stack1.append(value)\n",
        "\n",
        "    def deleteHead(self):\n",
        "        \"\"\"删除元素\"\"\"\n",
        "        # 栈2为空时，将所有栈1元素压入栈2\n",
        "        if not self.stack2 and self.stack1:\n",
        "            while self.stack1:\n",
        "                self.stack2.append(self.stack1.pop())\n",
        "        # 弹出栈2中元素\n",
        "        if self.stack2:\n",
        "            return self.stack2.pop()\n",
        "        else:\n",
        "            raise ValueError('Not enough value in queue.')\n",
        "\n",
        "\n",
        "\n",
        "q = Queue()\n",
        "q.appendTail(1)\n",
        "q.appendTail(2)\n",
        "q.appendTail(3)\n",
        "print(q.deleteHead(), q.stack1, q.stack2)\n",
        "q.appendTail(4)\n",
        "print(q.deleteHead(), q.stack1, q.stack2)\n",
        "q.appendTail(5)\n",
        "print(q.deleteHead(), q.stack1, q.stack2)\n",
        "print(q.deleteHead(), q.stack1, q.stack2)\n",
        "print(q.deleteHead(), q.stack1, q.stack2)"
      ],
      "execution_count": null,
      "outputs": [
        {
          "output_type": "stream",
          "text": [
            "1 [] [3, 2]\n",
            "2 [4] [3]\n",
            "3 [4, 5] []\n",
            "4 [] [5]\n",
            "5 [] []\n"
          ],
          "name": "stdout"
        }
      ]
    },
    {
      "cell_type": "markdown",
      "metadata": {
        "id": "NbComtpC7bqd",
        "colab_type": "text"
      },
      "source": [
        "# 面试题10：斐波那契数列\n",
        "\n",
        "题目一：求斐波那契数列的第n项。\n",
        "\n",
        "写一个函数，输入n，求Fabonaci数列的第n项。Fabonaci的定义：\n",
        "<br><br>\n",
        "$$f(n)=\n",
        "\\begin{cases}\n",
        "0 &n=0\\\\[1ex]\n",
        "1 &n=1\\\\[1ex]\n",
        "f(n-1)+f(n-2) &n>1\n",
        "\\end{cases}\n",
        "$$"
      ]
    },
    {
      "cell_type": "code",
      "metadata": {
        "id": "vOyhfRcN-nPR",
        "colab_type": "code",
        "colab": {
          "base_uri": "https://localhost:8080/",
          "height": 51
        },
        "outputId": "70591216-f914-45d2-923b-7696baf092da"
      },
      "source": [
        "def recursive_fabonaci(n):\n",
        "    \"\"\"递归版本\"\"\"\n",
        "    if n == 0:\n",
        "        return 0\n",
        "    if n == 1:\n",
        "        return 1\n",
        "    return recursive_fabonaci(n-1) + recursive_fabonaci(n-2)\n",
        "\n",
        "print(recursive_fabonaci(10))\n",
        "\n",
        "\n",
        "def register_cache(f):\n",
        "    def wrapper(n):\n",
        "        if n not in cache:\n",
        "            cache[n] = f(n)\n",
        "        return cache[n]\n",
        "        \n",
        "    cache = {}\n",
        "    return wrapper\n",
        "\n",
        "\n",
        "@register_cache\n",
        "def recursive_fabonaci(n):\n",
        "    \"\"\"递归版本\"\"\"\n",
        "    if n == 0:\n",
        "        return 0\n",
        "    if n == 1:\n",
        "        return 1\n",
        "    return recursive_fabonaci(n-1) + recursive_fabonaci(n-2)\n",
        "\n",
        "recursive_fabonaci(20)\n"
      ],
      "execution_count": null,
      "outputs": [
        {
          "output_type": "stream",
          "text": [
            "55\n"
          ],
          "name": "stdout"
        },
        {
          "output_type": "execute_result",
          "data": {
            "text/plain": [
              "6765"
            ]
          },
          "metadata": {
            "tags": []
          },
          "execution_count": 49
        }
      ]
    },
    {
      "cell_type": "markdown",
      "metadata": {
        "id": "XmCa6fg4_LPe",
        "colab_type": "text"
      },
      "source": [
        "题目二：青蛙跳台阶问题\n",
        "\n",
        "一只青蛙一次可以跳上1级台阶，也可以跳上2级台阶，求该青蛙跳上n级的台阶总共有多少种跳法。\n",
        "\n",
        "解题思路：跳上第n级台阶一定是通过在n-1级台阶跳1步，或在n-2级台阶跳2步到达，因此当n大于等于3时，总方法数为\n",
        "\n",
        "$$\n",
        "f(n)=f(n-1)+f(n-2), \\quad n\\geq 3\n",
        "$$\n",
        "\n",
        "<br>\n",
        "\n",
        "本题扩展：在青蛙跳台阶问题中，如果把条件改成：一只青蛙一次可以跳上任意级台阶，则此时青蛙跳上一个n级的台阶总共有多少种跳法？\n",
        "\n",
        "解题思路：青蛙最后一步跳上n级台阶，可以是从任意m级台阶跳n-m步到达，因此总次数可表示为：\n",
        "\n",
        "$$\n",
        "f(n)=f(n-1)+f(n-2)+\\cdots+f(1)\n",
        "$$\n",
        "\n",
        "<br>\n",
        "\n",
        "根据$f(1)=1$, $f(n+1)-f(n)=f(n)$, 推得$f(n)=2^{n-1}$"
      ]
    },
    {
      "cell_type": "markdown",
      "metadata": {
        "id": "LJDf3ktEBuao",
        "colab_type": "text"
      },
      "source": [
        "# 2.4.2 查找和排序\n"
      ]
    },
    {
      "cell_type": "code",
      "metadata": {
        "id": "Qiky1dBoHCho",
        "colab_type": "code",
        "colab": {
          "base_uri": "https://localhost:8080/",
          "height": 34
        },
        "outputId": "8d711a1f-ce58-48e9-f54a-1ec03f9e1928"
      },
      "source": [
        "# 快排\n",
        "# 对于已经排序好的数组，每次以分区数组最后一个数字为比较标准，此时时间复杂度将至O(n^2)\n",
        "def partition(array, start, end):\n",
        "    if start >= end:\n",
        "        return start\n",
        "    i = start - 1\n",
        "    for j in range(start, end):\n",
        "        if array[j] < array[end]:\n",
        "            i += 1\n",
        "            if i != j:\n",
        "                array[i], array[j] = array[j], array[i]\n",
        "    i += 1\n",
        "    if i != end:\n",
        "        array[i], array[end] = array[end], array[i]\n",
        "    return i\n",
        "\n",
        "\n",
        "def quick_sort(array, start, end):\n",
        "    index = partition(array, start, end)\n",
        "    if start < index - 1:\n",
        "        quick_sort(array, start, index - 1)\n",
        "    if index + 1 < end:\n",
        "        quick_sort(array, index + 1, end)\n",
        "\n",
        "\n",
        "array = [4,1,6,1,0,8,3]\n",
        "quick_sort(array, 0, len(array) - 1)\n",
        "print(array)"
      ],
      "execution_count": null,
      "outputs": [
        {
          "output_type": "stream",
          "text": [
            "[0, 1, 1, 3, 4, 6, 8]\n"
          ],
          "name": "stdout"
        }
      ]
    },
    {
      "cell_type": "code",
      "metadata": {
        "id": "5QyLSBiMpGcc",
        "colab_type": "code",
        "colab": {}
      },
      "source": [
        ""
      ],
      "execution_count": null,
      "outputs": []
    },
    {
      "cell_type": "markdown",
      "metadata": {
        "id": "gziR4iGUNjFI",
        "colab_type": "text"
      },
      "source": [
        "# 面试题11：旋转数组的最小数字\n",
        "\n",
        "题目：把一个数组最开始的若干元素搬到数组末尾，我们称之为数组的旋转。输入一个递增排序的数组的一个旋转，输出旋转数组的最小元素。例如：数组{3,4,5,1,2}，输出最小值为1。\n",
        "\n",
        "解题思路：\n",
        "- 若头元素小于尾元素，则最小值为头元素；\n",
        "- 若中间元素小于头元素，则最小值位于前半区间\n",
        "- 若中间元素大于头元素，则最小值位于后半区间；\n",
        "- 若中间元素等于头元素（必等于尾元素），则只能顺序查找；"
      ]
    },
    {
      "cell_type": "code",
      "metadata": {
        "id": "WFwIa-lJYhVt",
        "colab_type": "code",
        "colab": {
          "base_uri": "https://localhost:8080/",
          "height": 68
        },
        "outputId": "77282be4-73d6-4524-baf7-9c2e74db2067"
      },
      "source": [
        "def find_rotate_min(array):\n",
        "    if array[0] < array[-1]:\n",
        "        return array[0]\n",
        "    \n",
        "    start, end = 0, len(array) - 1\n",
        "    # [start, end]两个序列的交界处，array[end]为最小值\n",
        "    while end - start != 1:\n",
        "        mid = int((start + end) / 2)\n",
        "        print(start, mid, end)\n",
        "        if array[start] == array[mid] == array[end]:\n",
        "            return min(array[start:end+1])\n",
        "        elif array[mid] >= array[start]:\n",
        "            start = mid\n",
        "        else:\n",
        "            end = mid\n",
        "    return array[end]\n",
        "\n",
        "\n",
        "array = [1,2,3,0,1]\n",
        "print(find_rotate_min(array))"
      ],
      "execution_count": null,
      "outputs": [
        {
          "output_type": "stream",
          "text": [
            "0 2 4\n",
            "2 3 4\n",
            "0\n"
          ],
          "name": "stdout"
        }
      ]
    },
    {
      "cell_type": "markdown",
      "metadata": {
        "id": "LVRag8xjp_f8",
        "colab_type": "text"
      },
      "source": [
        "# 面试题12：矩阵中的路径\n",
        "\n",
        "题目：请设计一个函数，用来判断在一个矩阵中是否存在一条包含某字符串所有字符的路径。路径可以从矩阵中的任意一格开始，每一步可以在矩阵中向左、右、上、下移动一格。如果一条路径经过了矩阵的某一格，那么该路径不能再次进入该格子。例如，在下面的3x4的矩阵中包含一条字符串“bfce”的路径，但矩阵中不包含一条字符串“abfb”的路径，因为字符串的第一个字符b占据了矩阵中的第一行第二个格子之后，路径不能再次进入这个格子。\n",
        "```\n",
        "a  b  t  g\n",
        "c  f  c  s\n",
        "j  d  e  h\n",
        "```\n",
        "\n",
        "解题思路：回溯法解决。"
      ]
    },
    {
      "cell_type": "code",
      "metadata": {
        "id": "U0w6h39S6kvP",
        "colab_type": "code",
        "colab": {
          "base_uri": "https://localhost:8080/",
          "height": 34
        },
        "outputId": "7f1646c1-72e2-4f17-8a14-950d3b668d70"
      },
      "source": [
        "def has_path(array, path):\n",
        "    \"\"\"遍历数组，将数组每一个作为起始位置\"\"\"\n",
        "    # 使用字典保存路径以及记录遍历的位置\n",
        "    history = {}\n",
        "    for i in range(len(array)):\n",
        "        for j in range(len(array[0])):\n",
        "            if find_path(array, i, j, path, history):\n",
        "                print(history)\n",
        "                break\n",
        "\n",
        "def find_path(array, row, column, path, history):\n",
        "    \"\"\"在给定位置处查找目标字符串\"\"\"\n",
        "    # 位置超限\n",
        "    if row >= len(array) or row < 0 or column >= len(array[0]) or column < 0:\n",
        "        return False\n",
        "    # 已遍历位置\n",
        "    if (row, column) in history:\n",
        "        return False\n",
        "    # 当前元素等于目标元素，继续深层遍历，直至找到所有元素\n",
        "    if array[row][column] == path[0]:\n",
        "        history[(row, column)] = len(history)\n",
        "        # 找到目标路径\n",
        "        if len(path) == 1:\n",
        "            return True\n",
        "        # 向上、下、左、右查找\n",
        "        if (find_path(array, row - 1, column, path[1:], history) or \n",
        "            find_path(array, row + 1, column, path[1:], history) or \n",
        "            find_path(array, row, column - 1, path[1:], history) or \n",
        "            find_path(array, row, column + 1, path[1:], history)):\n",
        "            return True\n",
        "        history.pop((row, column))\n",
        "    \n",
        "    return False\n",
        "    \n",
        "\n",
        "array = [['a', 'b', 't', 'g'], ['c', 'f', 'c', 's'], ['j', 'd', 'e', 'h']]\n",
        "has_path(array, 'bfce')\n"
      ],
      "execution_count": null,
      "outputs": [
        {
          "output_type": "stream",
          "text": [
            "{(0, 1): 0, (1, 1): 1, (1, 2): 2, (2, 2): 3}\n"
          ],
          "name": "stdout"
        }
      ]
    },
    {
      "cell_type": "markdown",
      "metadata": {
        "id": "baPoP8gAB5qe",
        "colab_type": "text"
      },
      "source": [
        "# 面试题13：机器人的运行范围\n",
        "\n",
        "题目：地上有一个m行n列的方格。一个机器人从坐标(0,0)的格子开始移动，它每次可以向左、右、上、下移动一格，但不能进入行坐标和列坐标的数位之和大于k的格子。例如，当k为18时，机器人能够进入方格(35,37)，因为3+5+3+7=18。但它不能进入方格(35,38)，因为3+5+3+8=19。请问该机器人能够到达多少格子？\n",
        "\n",
        "解题思路：根据初始点位置的不同，一些位置的数位之和满足条件，但是不能到达，此题应用回溯法求解。"
      ]
    },
    {
      "cell_type": "code",
      "metadata": {
        "id": "QgwcvNoWKsLh",
        "colab_type": "code",
        "colab": {
          "base_uri": "https://localhost:8080/",
          "height": 1000
        },
        "outputId": "b7e9fc07-a834-4d69-d9e3-ead163406ad4"
      },
      "source": [
        "# 矩阵右下角被0围住的位置都不能到达\n",
        "m,n = 70, 70\n",
        "k = 18\n",
        "for i in range(m):\n",
        "    res = []\n",
        "    for j in range(n):\n",
        "        if k >= sum_bit(i) + sum_bit(j):\n",
        "            res.append(1)\n",
        "        else:\n",
        "            res.append(0)\n",
        "    print(res)"
      ],
      "execution_count": null,
      "outputs": [
        {
          "output_type": "stream",
          "text": [
            "[1, 1, 1, 1, 1, 1, 1, 1, 1, 1, 1, 1, 1, 1, 1, 1, 1, 1, 1, 1, 1, 1, 1, 1, 1, 1, 1, 1, 1, 1, 1, 1, 1, 1, 1, 1, 1, 1, 1, 1, 1, 1, 1, 1, 1, 1, 1, 1, 1, 1, 1, 1, 1, 1, 1, 1, 1, 1, 1, 1, 1, 1, 1, 1, 1, 1, 1, 1, 1, 1]\n",
            "[1, 1, 1, 1, 1, 1, 1, 1, 1, 1, 1, 1, 1, 1, 1, 1, 1, 1, 1, 1, 1, 1, 1, 1, 1, 1, 1, 1, 1, 1, 1, 1, 1, 1, 1, 1, 1, 1, 1, 1, 1, 1, 1, 1, 1, 1, 1, 1, 1, 1, 1, 1, 1, 1, 1, 1, 1, 1, 1, 1, 1, 1, 1, 1, 1, 1, 1, 1, 1, 1]\n",
            "[1, 1, 1, 1, 1, 1, 1, 1, 1, 1, 1, 1, 1, 1, 1, 1, 1, 1, 1, 1, 1, 1, 1, 1, 1, 1, 1, 1, 1, 1, 1, 1, 1, 1, 1, 1, 1, 1, 1, 1, 1, 1, 1, 1, 1, 1, 1, 1, 1, 1, 1, 1, 1, 1, 1, 1, 1, 1, 1, 1, 1, 1, 1, 1, 1, 1, 1, 1, 1, 1]\n",
            "[1, 1, 1, 1, 1, 1, 1, 1, 1, 1, 1, 1, 1, 1, 1, 1, 1, 1, 1, 1, 1, 1, 1, 1, 1, 1, 1, 1, 1, 1, 1, 1, 1, 1, 1, 1, 1, 1, 1, 1, 1, 1, 1, 1, 1, 1, 1, 1, 1, 1, 1, 1, 1, 1, 1, 1, 1, 1, 1, 1, 1, 1, 1, 1, 1, 1, 1, 1, 1, 1]\n",
            "[1, 1, 1, 1, 1, 1, 1, 1, 1, 1, 1, 1, 1, 1, 1, 1, 1, 1, 1, 1, 1, 1, 1, 1, 1, 1, 1, 1, 1, 1, 1, 1, 1, 1, 1, 1, 1, 1, 1, 1, 1, 1, 1, 1, 1, 1, 1, 1, 1, 1, 1, 1, 1, 1, 1, 1, 1, 1, 1, 1, 1, 1, 1, 1, 1, 1, 1, 1, 1, 0]\n",
            "[1, 1, 1, 1, 1, 1, 1, 1, 1, 1, 1, 1, 1, 1, 1, 1, 1, 1, 1, 1, 1, 1, 1, 1, 1, 1, 1, 1, 1, 1, 1, 1, 1, 1, 1, 1, 1, 1, 1, 1, 1, 1, 1, 1, 1, 1, 1, 1, 1, 1, 1, 1, 1, 1, 1, 1, 1, 1, 1, 0, 1, 1, 1, 1, 1, 1, 1, 1, 0, 0]\n",
            "[1, 1, 1, 1, 1, 1, 1, 1, 1, 1, 1, 1, 1, 1, 1, 1, 1, 1, 1, 1, 1, 1, 1, 1, 1, 1, 1, 1, 1, 1, 1, 1, 1, 1, 1, 1, 1, 1, 1, 1, 1, 1, 1, 1, 1, 1, 1, 1, 1, 0, 1, 1, 1, 1, 1, 1, 1, 1, 0, 0, 1, 1, 1, 1, 1, 1, 1, 0, 0, 0]\n",
            "[1, 1, 1, 1, 1, 1, 1, 1, 1, 1, 1, 1, 1, 1, 1, 1, 1, 1, 1, 1, 1, 1, 1, 1, 1, 1, 1, 1, 1, 1, 1, 1, 1, 1, 1, 1, 1, 1, 1, 0, 1, 1, 1, 1, 1, 1, 1, 1, 0, 0, 1, 1, 1, 1, 1, 1, 1, 0, 0, 0, 1, 1, 1, 1, 1, 1, 0, 0, 0, 0]\n",
            "[1, 1, 1, 1, 1, 1, 1, 1, 1, 1, 1, 1, 1, 1, 1, 1, 1, 1, 1, 1, 1, 1, 1, 1, 1, 1, 1, 1, 1, 0, 1, 1, 1, 1, 1, 1, 1, 1, 0, 0, 1, 1, 1, 1, 1, 1, 1, 0, 0, 0, 1, 1, 1, 1, 1, 1, 0, 0, 0, 0, 1, 1, 1, 1, 1, 0, 0, 0, 0, 0]\n",
            "[1, 1, 1, 1, 1, 1, 1, 1, 1, 1, 1, 1, 1, 1, 1, 1, 1, 1, 1, 0, 1, 1, 1, 1, 1, 1, 1, 1, 0, 0, 1, 1, 1, 1, 1, 1, 1, 0, 0, 0, 1, 1, 1, 1, 1, 1, 0, 0, 0, 0, 1, 1, 1, 1, 1, 0, 0, 0, 0, 0, 1, 1, 1, 1, 0, 0, 0, 0, 0, 0]\n",
            "[1, 1, 1, 1, 1, 1, 1, 1, 1, 1, 1, 1, 1, 1, 1, 1, 1, 1, 1, 1, 1, 1, 1, 1, 1, 1, 1, 1, 1, 1, 1, 1, 1, 1, 1, 1, 1, 1, 1, 1, 1, 1, 1, 1, 1, 1, 1, 1, 1, 1, 1, 1, 1, 1, 1, 1, 1, 1, 1, 1, 1, 1, 1, 1, 1, 1, 1, 1, 1, 1]\n",
            "[1, 1, 1, 1, 1, 1, 1, 1, 1, 1, 1, 1, 1, 1, 1, 1, 1, 1, 1, 1, 1, 1, 1, 1, 1, 1, 1, 1, 1, 1, 1, 1, 1, 1, 1, 1, 1, 1, 1, 1, 1, 1, 1, 1, 1, 1, 1, 1, 1, 1, 1, 1, 1, 1, 1, 1, 1, 1, 1, 1, 1, 1, 1, 1, 1, 1, 1, 1, 1, 1]\n",
            "[1, 1, 1, 1, 1, 1, 1, 1, 1, 1, 1, 1, 1, 1, 1, 1, 1, 1, 1, 1, 1, 1, 1, 1, 1, 1, 1, 1, 1, 1, 1, 1, 1, 1, 1, 1, 1, 1, 1, 1, 1, 1, 1, 1, 1, 1, 1, 1, 1, 1, 1, 1, 1, 1, 1, 1, 1, 1, 1, 1, 1, 1, 1, 1, 1, 1, 1, 1, 1, 1]\n",
            "[1, 1, 1, 1, 1, 1, 1, 1, 1, 1, 1, 1, 1, 1, 1, 1, 1, 1, 1, 1, 1, 1, 1, 1, 1, 1, 1, 1, 1, 1, 1, 1, 1, 1, 1, 1, 1, 1, 1, 1, 1, 1, 1, 1, 1, 1, 1, 1, 1, 1, 1, 1, 1, 1, 1, 1, 1, 1, 1, 1, 1, 1, 1, 1, 1, 1, 1, 1, 1, 0]\n",
            "[1, 1, 1, 1, 1, 1, 1, 1, 1, 1, 1, 1, 1, 1, 1, 1, 1, 1, 1, 1, 1, 1, 1, 1, 1, 1, 1, 1, 1, 1, 1, 1, 1, 1, 1, 1, 1, 1, 1, 1, 1, 1, 1, 1, 1, 1, 1, 1, 1, 1, 1, 1, 1, 1, 1, 1, 1, 1, 1, 0, 1, 1, 1, 1, 1, 1, 1, 1, 0, 0]\n",
            "[1, 1, 1, 1, 1, 1, 1, 1, 1, 1, 1, 1, 1, 1, 1, 1, 1, 1, 1, 1, 1, 1, 1, 1, 1, 1, 1, 1, 1, 1, 1, 1, 1, 1, 1, 1, 1, 1, 1, 1, 1, 1, 1, 1, 1, 1, 1, 1, 1, 0, 1, 1, 1, 1, 1, 1, 1, 1, 0, 0, 1, 1, 1, 1, 1, 1, 1, 0, 0, 0]\n",
            "[1, 1, 1, 1, 1, 1, 1, 1, 1, 1, 1, 1, 1, 1, 1, 1, 1, 1, 1, 1, 1, 1, 1, 1, 1, 1, 1, 1, 1, 1, 1, 1, 1, 1, 1, 1, 1, 1, 1, 0, 1, 1, 1, 1, 1, 1, 1, 1, 0, 0, 1, 1, 1, 1, 1, 1, 1, 0, 0, 0, 1, 1, 1, 1, 1, 1, 0, 0, 0, 0]\n",
            "[1, 1, 1, 1, 1, 1, 1, 1, 1, 1, 1, 1, 1, 1, 1, 1, 1, 1, 1, 1, 1, 1, 1, 1, 1, 1, 1, 1, 1, 0, 1, 1, 1, 1, 1, 1, 1, 1, 0, 0, 1, 1, 1, 1, 1, 1, 1, 0, 0, 0, 1, 1, 1, 1, 1, 1, 0, 0, 0, 0, 1, 1, 1, 1, 1, 0, 0, 0, 0, 0]\n",
            "[1, 1, 1, 1, 1, 1, 1, 1, 1, 1, 1, 1, 1, 1, 1, 1, 1, 1, 1, 0, 1, 1, 1, 1, 1, 1, 1, 1, 0, 0, 1, 1, 1, 1, 1, 1, 1, 0, 0, 0, 1, 1, 1, 1, 1, 1, 0, 0, 0, 0, 1, 1, 1, 1, 1, 0, 0, 0, 0, 0, 1, 1, 1, 1, 0, 0, 0, 0, 0, 0]\n",
            "[1, 1, 1, 1, 1, 1, 1, 1, 1, 0, 1, 1, 1, 1, 1, 1, 1, 1, 0, 0, 1, 1, 1, 1, 1, 1, 1, 0, 0, 0, 1, 1, 1, 1, 1, 1, 0, 0, 0, 0, 1, 1, 1, 1, 1, 0, 0, 0, 0, 0, 1, 1, 1, 1, 0, 0, 0, 0, 0, 0, 1, 1, 1, 0, 0, 0, 0, 0, 0, 0]\n",
            "[1, 1, 1, 1, 1, 1, 1, 1, 1, 1, 1, 1, 1, 1, 1, 1, 1, 1, 1, 1, 1, 1, 1, 1, 1, 1, 1, 1, 1, 1, 1, 1, 1, 1, 1, 1, 1, 1, 1, 1, 1, 1, 1, 1, 1, 1, 1, 1, 1, 1, 1, 1, 1, 1, 1, 1, 1, 1, 1, 1, 1, 1, 1, 1, 1, 1, 1, 1, 1, 1]\n",
            "[1, 1, 1, 1, 1, 1, 1, 1, 1, 1, 1, 1, 1, 1, 1, 1, 1, 1, 1, 1, 1, 1, 1, 1, 1, 1, 1, 1, 1, 1, 1, 1, 1, 1, 1, 1, 1, 1, 1, 1, 1, 1, 1, 1, 1, 1, 1, 1, 1, 1, 1, 1, 1, 1, 1, 1, 1, 1, 1, 1, 1, 1, 1, 1, 1, 1, 1, 1, 1, 1]\n",
            "[1, 1, 1, 1, 1, 1, 1, 1, 1, 1, 1, 1, 1, 1, 1, 1, 1, 1, 1, 1, 1, 1, 1, 1, 1, 1, 1, 1, 1, 1, 1, 1, 1, 1, 1, 1, 1, 1, 1, 1, 1, 1, 1, 1, 1, 1, 1, 1, 1, 1, 1, 1, 1, 1, 1, 1, 1, 1, 1, 1, 1, 1, 1, 1, 1, 1, 1, 1, 1, 0]\n",
            "[1, 1, 1, 1, 1, 1, 1, 1, 1, 1, 1, 1, 1, 1, 1, 1, 1, 1, 1, 1, 1, 1, 1, 1, 1, 1, 1, 1, 1, 1, 1, 1, 1, 1, 1, 1, 1, 1, 1, 1, 1, 1, 1, 1, 1, 1, 1, 1, 1, 1, 1, 1, 1, 1, 1, 1, 1, 1, 1, 0, 1, 1, 1, 1, 1, 1, 1, 1, 0, 0]\n",
            "[1, 1, 1, 1, 1, 1, 1, 1, 1, 1, 1, 1, 1, 1, 1, 1, 1, 1, 1, 1, 1, 1, 1, 1, 1, 1, 1, 1, 1, 1, 1, 1, 1, 1, 1, 1, 1, 1, 1, 1, 1, 1, 1, 1, 1, 1, 1, 1, 1, 0, 1, 1, 1, 1, 1, 1, 1, 1, 0, 0, 1, 1, 1, 1, 1, 1, 1, 0, 0, 0]\n",
            "[1, 1, 1, 1, 1, 1, 1, 1, 1, 1, 1, 1, 1, 1, 1, 1, 1, 1, 1, 1, 1, 1, 1, 1, 1, 1, 1, 1, 1, 1, 1, 1, 1, 1, 1, 1, 1, 1, 1, 0, 1, 1, 1, 1, 1, 1, 1, 1, 0, 0, 1, 1, 1, 1, 1, 1, 1, 0, 0, 0, 1, 1, 1, 1, 1, 1, 0, 0, 0, 0]\n",
            "[1, 1, 1, 1, 1, 1, 1, 1, 1, 1, 1, 1, 1, 1, 1, 1, 1, 1, 1, 1, 1, 1, 1, 1, 1, 1, 1, 1, 1, 0, 1, 1, 1, 1, 1, 1, 1, 1, 0, 0, 1, 1, 1, 1, 1, 1, 1, 0, 0, 0, 1, 1, 1, 1, 1, 1, 0, 0, 0, 0, 1, 1, 1, 1, 1, 0, 0, 0, 0, 0]\n",
            "[1, 1, 1, 1, 1, 1, 1, 1, 1, 1, 1, 1, 1, 1, 1, 1, 1, 1, 1, 0, 1, 1, 1, 1, 1, 1, 1, 1, 0, 0, 1, 1, 1, 1, 1, 1, 1, 0, 0, 0, 1, 1, 1, 1, 1, 1, 0, 0, 0, 0, 1, 1, 1, 1, 1, 0, 0, 0, 0, 0, 1, 1, 1, 1, 0, 0, 0, 0, 0, 0]\n",
            "[1, 1, 1, 1, 1, 1, 1, 1, 1, 0, 1, 1, 1, 1, 1, 1, 1, 1, 0, 0, 1, 1, 1, 1, 1, 1, 1, 0, 0, 0, 1, 1, 1, 1, 1, 1, 0, 0, 0, 0, 1, 1, 1, 1, 1, 0, 0, 0, 0, 0, 1, 1, 1, 1, 0, 0, 0, 0, 0, 0, 1, 1, 1, 0, 0, 0, 0, 0, 0, 0]\n",
            "[1, 1, 1, 1, 1, 1, 1, 1, 0, 0, 1, 1, 1, 1, 1, 1, 1, 0, 0, 0, 1, 1, 1, 1, 1, 1, 0, 0, 0, 0, 1, 1, 1, 1, 1, 0, 0, 0, 0, 0, 1, 1, 1, 1, 0, 0, 0, 0, 0, 0, 1, 1, 1, 0, 0, 0, 0, 0, 0, 0, 1, 1, 0, 0, 0, 0, 0, 0, 0, 0]\n",
            "[1, 1, 1, 1, 1, 1, 1, 1, 1, 1, 1, 1, 1, 1, 1, 1, 1, 1, 1, 1, 1, 1, 1, 1, 1, 1, 1, 1, 1, 1, 1, 1, 1, 1, 1, 1, 1, 1, 1, 1, 1, 1, 1, 1, 1, 1, 1, 1, 1, 1, 1, 1, 1, 1, 1, 1, 1, 1, 1, 1, 1, 1, 1, 1, 1, 1, 1, 1, 1, 1]\n",
            "[1, 1, 1, 1, 1, 1, 1, 1, 1, 1, 1, 1, 1, 1, 1, 1, 1, 1, 1, 1, 1, 1, 1, 1, 1, 1, 1, 1, 1, 1, 1, 1, 1, 1, 1, 1, 1, 1, 1, 1, 1, 1, 1, 1, 1, 1, 1, 1, 1, 1, 1, 1, 1, 1, 1, 1, 1, 1, 1, 1, 1, 1, 1, 1, 1, 1, 1, 1, 1, 0]\n",
            "[1, 1, 1, 1, 1, 1, 1, 1, 1, 1, 1, 1, 1, 1, 1, 1, 1, 1, 1, 1, 1, 1, 1, 1, 1, 1, 1, 1, 1, 1, 1, 1, 1, 1, 1, 1, 1, 1, 1, 1, 1, 1, 1, 1, 1, 1, 1, 1, 1, 1, 1, 1, 1, 1, 1, 1, 1, 1, 1, 0, 1, 1, 1, 1, 1, 1, 1, 1, 0, 0]\n",
            "[1, 1, 1, 1, 1, 1, 1, 1, 1, 1, 1, 1, 1, 1, 1, 1, 1, 1, 1, 1, 1, 1, 1, 1, 1, 1, 1, 1, 1, 1, 1, 1, 1, 1, 1, 1, 1, 1, 1, 1, 1, 1, 1, 1, 1, 1, 1, 1, 1, 0, 1, 1, 1, 1, 1, 1, 1, 1, 0, 0, 1, 1, 1, 1, 1, 1, 1, 0, 0, 0]\n",
            "[1, 1, 1, 1, 1, 1, 1, 1, 1, 1, 1, 1, 1, 1, 1, 1, 1, 1, 1, 1, 1, 1, 1, 1, 1, 1, 1, 1, 1, 1, 1, 1, 1, 1, 1, 1, 1, 1, 1, 0, 1, 1, 1, 1, 1, 1, 1, 1, 0, 0, 1, 1, 1, 1, 1, 1, 1, 0, 0, 0, 1, 1, 1, 1, 1, 1, 0, 0, 0, 0]\n",
            "[1, 1, 1, 1, 1, 1, 1, 1, 1, 1, 1, 1, 1, 1, 1, 1, 1, 1, 1, 1, 1, 1, 1, 1, 1, 1, 1, 1, 1, 0, 1, 1, 1, 1, 1, 1, 1, 1, 0, 0, 1, 1, 1, 1, 1, 1, 1, 0, 0, 0, 1, 1, 1, 1, 1, 1, 0, 0, 0, 0, 1, 1, 1, 1, 1, 0, 0, 0, 0, 0]\n",
            "[1, 1, 1, 1, 1, 1, 1, 1, 1, 1, 1, 1, 1, 1, 1, 1, 1, 1, 1, 0, 1, 1, 1, 1, 1, 1, 1, 1, 0, 0, 1, 1, 1, 1, 1, 1, 1, 0, 0, 0, 1, 1, 1, 1, 1, 1, 0, 0, 0, 0, 1, 1, 1, 1, 1, 0, 0, 0, 0, 0, 1, 1, 1, 1, 0, 0, 0, 0, 0, 0]\n",
            "[1, 1, 1, 1, 1, 1, 1, 1, 1, 0, 1, 1, 1, 1, 1, 1, 1, 1, 0, 0, 1, 1, 1, 1, 1, 1, 1, 0, 0, 0, 1, 1, 1, 1, 1, 1, 0, 0, 0, 0, 1, 1, 1, 1, 1, 0, 0, 0, 0, 0, 1, 1, 1, 1, 0, 0, 0, 0, 0, 0, 1, 1, 1, 0, 0, 0, 0, 0, 0, 0]\n",
            "[1, 1, 1, 1, 1, 1, 1, 1, 0, 0, 1, 1, 1, 1, 1, 1, 1, 0, 0, 0, 1, 1, 1, 1, 1, 1, 0, 0, 0, 0, 1, 1, 1, 1, 1, 0, 0, 0, 0, 0, 1, 1, 1, 1, 0, 0, 0, 0, 0, 0, 1, 1, 1, 0, 0, 0, 0, 0, 0, 0, 1, 1, 0, 0, 0, 0, 0, 0, 0, 0]\n",
            "[1, 1, 1, 1, 1, 1, 1, 0, 0, 0, 1, 1, 1, 1, 1, 1, 0, 0, 0, 0, 1, 1, 1, 1, 1, 0, 0, 0, 0, 0, 1, 1, 1, 1, 0, 0, 0, 0, 0, 0, 1, 1, 1, 0, 0, 0, 0, 0, 0, 0, 1, 1, 0, 0, 0, 0, 0, 0, 0, 0, 1, 0, 0, 0, 0, 0, 0, 0, 0, 0]\n",
            "[1, 1, 1, 1, 1, 1, 1, 1, 1, 1, 1, 1, 1, 1, 1, 1, 1, 1, 1, 1, 1, 1, 1, 1, 1, 1, 1, 1, 1, 1, 1, 1, 1, 1, 1, 1, 1, 1, 1, 1, 1, 1, 1, 1, 1, 1, 1, 1, 1, 1, 1, 1, 1, 1, 1, 1, 1, 1, 1, 1, 1, 1, 1, 1, 1, 1, 1, 1, 1, 0]\n",
            "[1, 1, 1, 1, 1, 1, 1, 1, 1, 1, 1, 1, 1, 1, 1, 1, 1, 1, 1, 1, 1, 1, 1, 1, 1, 1, 1, 1, 1, 1, 1, 1, 1, 1, 1, 1, 1, 1, 1, 1, 1, 1, 1, 1, 1, 1, 1, 1, 1, 1, 1, 1, 1, 1, 1, 1, 1, 1, 1, 0, 1, 1, 1, 1, 1, 1, 1, 1, 0, 0]\n",
            "[1, 1, 1, 1, 1, 1, 1, 1, 1, 1, 1, 1, 1, 1, 1, 1, 1, 1, 1, 1, 1, 1, 1, 1, 1, 1, 1, 1, 1, 1, 1, 1, 1, 1, 1, 1, 1, 1, 1, 1, 1, 1, 1, 1, 1, 1, 1, 1, 1, 0, 1, 1, 1, 1, 1, 1, 1, 1, 0, 0, 1, 1, 1, 1, 1, 1, 1, 0, 0, 0]\n",
            "[1, 1, 1, 1, 1, 1, 1, 1, 1, 1, 1, 1, 1, 1, 1, 1, 1, 1, 1, 1, 1, 1, 1, 1, 1, 1, 1, 1, 1, 1, 1, 1, 1, 1, 1, 1, 1, 1, 1, 0, 1, 1, 1, 1, 1, 1, 1, 1, 0, 0, 1, 1, 1, 1, 1, 1, 1, 0, 0, 0, 1, 1, 1, 1, 1, 1, 0, 0, 0, 0]\n",
            "[1, 1, 1, 1, 1, 1, 1, 1, 1, 1, 1, 1, 1, 1, 1, 1, 1, 1, 1, 1, 1, 1, 1, 1, 1, 1, 1, 1, 1, 0, 1, 1, 1, 1, 1, 1, 1, 1, 0, 0, 1, 1, 1, 1, 1, 1, 1, 0, 0, 0, 1, 1, 1, 1, 1, 1, 0, 0, 0, 0, 1, 1, 1, 1, 1, 0, 0, 0, 0, 0]\n",
            "[1, 1, 1, 1, 1, 1, 1, 1, 1, 1, 1, 1, 1, 1, 1, 1, 1, 1, 1, 0, 1, 1, 1, 1, 1, 1, 1, 1, 0, 0, 1, 1, 1, 1, 1, 1, 1, 0, 0, 0, 1, 1, 1, 1, 1, 1, 0, 0, 0, 0, 1, 1, 1, 1, 1, 0, 0, 0, 0, 0, 1, 1, 1, 1, 0, 0, 0, 0, 0, 0]\n",
            "[1, 1, 1, 1, 1, 1, 1, 1, 1, 0, 1, 1, 1, 1, 1, 1, 1, 1, 0, 0, 1, 1, 1, 1, 1, 1, 1, 0, 0, 0, 1, 1, 1, 1, 1, 1, 0, 0, 0, 0, 1, 1, 1, 1, 1, 0, 0, 0, 0, 0, 1, 1, 1, 1, 0, 0, 0, 0, 0, 0, 1, 1, 1, 0, 0, 0, 0, 0, 0, 0]\n",
            "[1, 1, 1, 1, 1, 1, 1, 1, 0, 0, 1, 1, 1, 1, 1, 1, 1, 0, 0, 0, 1, 1, 1, 1, 1, 1, 0, 0, 0, 0, 1, 1, 1, 1, 1, 0, 0, 0, 0, 0, 1, 1, 1, 1, 0, 0, 0, 0, 0, 0, 1, 1, 1, 0, 0, 0, 0, 0, 0, 0, 1, 1, 0, 0, 0, 0, 0, 0, 0, 0]\n",
            "[1, 1, 1, 1, 1, 1, 1, 0, 0, 0, 1, 1, 1, 1, 1, 1, 0, 0, 0, 0, 1, 1, 1, 1, 1, 0, 0, 0, 0, 0, 1, 1, 1, 1, 0, 0, 0, 0, 0, 0, 1, 1, 1, 0, 0, 0, 0, 0, 0, 0, 1, 1, 0, 0, 0, 0, 0, 0, 0, 0, 1, 0, 0, 0, 0, 0, 0, 0, 0, 0]\n",
            "[1, 1, 1, 1, 1, 1, 0, 0, 0, 0, 1, 1, 1, 1, 1, 0, 0, 0, 0, 0, 1, 1, 1, 1, 0, 0, 0, 0, 0, 0, 1, 1, 1, 0, 0, 0, 0, 0, 0, 0, 1, 1, 0, 0, 0, 0, 0, 0, 0, 0, 1, 0, 0, 0, 0, 0, 0, 0, 0, 0, 0, 0, 0, 0, 0, 0, 0, 0, 0, 0]\n",
            "[1, 1, 1, 1, 1, 1, 1, 1, 1, 1, 1, 1, 1, 1, 1, 1, 1, 1, 1, 1, 1, 1, 1, 1, 1, 1, 1, 1, 1, 1, 1, 1, 1, 1, 1, 1, 1, 1, 1, 1, 1, 1, 1, 1, 1, 1, 1, 1, 1, 1, 1, 1, 1, 1, 1, 1, 1, 1, 1, 0, 1, 1, 1, 1, 1, 1, 1, 1, 0, 0]\n",
            "[1, 1, 1, 1, 1, 1, 1, 1, 1, 1, 1, 1, 1, 1, 1, 1, 1, 1, 1, 1, 1, 1, 1, 1, 1, 1, 1, 1, 1, 1, 1, 1, 1, 1, 1, 1, 1, 1, 1, 1, 1, 1, 1, 1, 1, 1, 1, 1, 1, 0, 1, 1, 1, 1, 1, 1, 1, 1, 0, 0, 1, 1, 1, 1, 1, 1, 1, 0, 0, 0]\n",
            "[1, 1, 1, 1, 1, 1, 1, 1, 1, 1, 1, 1, 1, 1, 1, 1, 1, 1, 1, 1, 1, 1, 1, 1, 1, 1, 1, 1, 1, 1, 1, 1, 1, 1, 1, 1, 1, 1, 1, 0, 1, 1, 1, 1, 1, 1, 1, 1, 0, 0, 1, 1, 1, 1, 1, 1, 1, 0, 0, 0, 1, 1, 1, 1, 1, 1, 0, 0, 0, 0]\n",
            "[1, 1, 1, 1, 1, 1, 1, 1, 1, 1, 1, 1, 1, 1, 1, 1, 1, 1, 1, 1, 1, 1, 1, 1, 1, 1, 1, 1, 1, 0, 1, 1, 1, 1, 1, 1, 1, 1, 0, 0, 1, 1, 1, 1, 1, 1, 1, 0, 0, 0, 1, 1, 1, 1, 1, 1, 0, 0, 0, 0, 1, 1, 1, 1, 1, 0, 0, 0, 0, 0]\n",
            "[1, 1, 1, 1, 1, 1, 1, 1, 1, 1, 1, 1, 1, 1, 1, 1, 1, 1, 1, 0, 1, 1, 1, 1, 1, 1, 1, 1, 0, 0, 1, 1, 1, 1, 1, 1, 1, 0, 0, 0, 1, 1, 1, 1, 1, 1, 0, 0, 0, 0, 1, 1, 1, 1, 1, 0, 0, 0, 0, 0, 1, 1, 1, 1, 0, 0, 0, 0, 0, 0]\n",
            "[1, 1, 1, 1, 1, 1, 1, 1, 1, 0, 1, 1, 1, 1, 1, 1, 1, 1, 0, 0, 1, 1, 1, 1, 1, 1, 1, 0, 0, 0, 1, 1, 1, 1, 1, 1, 0, 0, 0, 0, 1, 1, 1, 1, 1, 0, 0, 0, 0, 0, 1, 1, 1, 1, 0, 0, 0, 0, 0, 0, 1, 1, 1, 0, 0, 0, 0, 0, 0, 0]\n",
            "[1, 1, 1, 1, 1, 1, 1, 1, 0, 0, 1, 1, 1, 1, 1, 1, 1, 0, 0, 0, 1, 1, 1, 1, 1, 1, 0, 0, 0, 0, 1, 1, 1, 1, 1, 0, 0, 0, 0, 0, 1, 1, 1, 1, 0, 0, 0, 0, 0, 0, 1, 1, 1, 0, 0, 0, 0, 0, 0, 0, 1, 1, 0, 0, 0, 0, 0, 0, 0, 0]\n",
            "[1, 1, 1, 1, 1, 1, 1, 0, 0, 0, 1, 1, 1, 1, 1, 1, 0, 0, 0, 0, 1, 1, 1, 1, 1, 0, 0, 0, 0, 0, 1, 1, 1, 1, 0, 0, 0, 0, 0, 0, 1, 1, 1, 0, 0, 0, 0, 0, 0, 0, 1, 1, 0, 0, 0, 0, 0, 0, 0, 0, 1, 0, 0, 0, 0, 0, 0, 0, 0, 0]\n",
            "[1, 1, 1, 1, 1, 1, 0, 0, 0, 0, 1, 1, 1, 1, 1, 0, 0, 0, 0, 0, 1, 1, 1, 1, 0, 0, 0, 0, 0, 0, 1, 1, 1, 0, 0, 0, 0, 0, 0, 0, 1, 1, 0, 0, 0, 0, 0, 0, 0, 0, 1, 0, 0, 0, 0, 0, 0, 0, 0, 0, 0, 0, 0, 0, 0, 0, 0, 0, 0, 0]\n",
            "[1, 1, 1, 1, 1, 0, 0, 0, 0, 0, 1, 1, 1, 1, 0, 0, 0, 0, 0, 0, 1, 1, 1, 0, 0, 0, 0, 0, 0, 0, 1, 1, 0, 0, 0, 0, 0, 0, 0, 0, 1, 0, 0, 0, 0, 0, 0, 0, 0, 0, 0, 0, 0, 0, 0, 0, 0, 0, 0, 0, 0, 0, 0, 0, 0, 0, 0, 0, 0, 0]\n",
            "[1, 1, 1, 1, 1, 1, 1, 1, 1, 1, 1, 1, 1, 1, 1, 1, 1, 1, 1, 1, 1, 1, 1, 1, 1, 1, 1, 1, 1, 1, 1, 1, 1, 1, 1, 1, 1, 1, 1, 1, 1, 1, 1, 1, 1, 1, 1, 1, 1, 0, 1, 1, 1, 1, 1, 1, 1, 1, 0, 0, 1, 1, 1, 1, 1, 1, 1, 0, 0, 0]\n",
            "[1, 1, 1, 1, 1, 1, 1, 1, 1, 1, 1, 1, 1, 1, 1, 1, 1, 1, 1, 1, 1, 1, 1, 1, 1, 1, 1, 1, 1, 1, 1, 1, 1, 1, 1, 1, 1, 1, 1, 0, 1, 1, 1, 1, 1, 1, 1, 1, 0, 0, 1, 1, 1, 1, 1, 1, 1, 0, 0, 0, 1, 1, 1, 1, 1, 1, 0, 0, 0, 0]\n",
            "[1, 1, 1, 1, 1, 1, 1, 1, 1, 1, 1, 1, 1, 1, 1, 1, 1, 1, 1, 1, 1, 1, 1, 1, 1, 1, 1, 1, 1, 0, 1, 1, 1, 1, 1, 1, 1, 1, 0, 0, 1, 1, 1, 1, 1, 1, 1, 0, 0, 0, 1, 1, 1, 1, 1, 1, 0, 0, 0, 0, 1, 1, 1, 1, 1, 0, 0, 0, 0, 0]\n",
            "[1, 1, 1, 1, 1, 1, 1, 1, 1, 1, 1, 1, 1, 1, 1, 1, 1, 1, 1, 0, 1, 1, 1, 1, 1, 1, 1, 1, 0, 0, 1, 1, 1, 1, 1, 1, 1, 0, 0, 0, 1, 1, 1, 1, 1, 1, 0, 0, 0, 0, 1, 1, 1, 1, 1, 0, 0, 0, 0, 0, 1, 1, 1, 1, 0, 0, 0, 0, 0, 0]\n",
            "[1, 1, 1, 1, 1, 1, 1, 1, 1, 0, 1, 1, 1, 1, 1, 1, 1, 1, 0, 0, 1, 1, 1, 1, 1, 1, 1, 0, 0, 0, 1, 1, 1, 1, 1, 1, 0, 0, 0, 0, 1, 1, 1, 1, 1, 0, 0, 0, 0, 0, 1, 1, 1, 1, 0, 0, 0, 0, 0, 0, 1, 1, 1, 0, 0, 0, 0, 0, 0, 0]\n",
            "[1, 1, 1, 1, 1, 1, 1, 1, 0, 0, 1, 1, 1, 1, 1, 1, 1, 0, 0, 0, 1, 1, 1, 1, 1, 1, 0, 0, 0, 0, 1, 1, 1, 1, 1, 0, 0, 0, 0, 0, 1, 1, 1, 1, 0, 0, 0, 0, 0, 0, 1, 1, 1, 0, 0, 0, 0, 0, 0, 0, 1, 1, 0, 0, 0, 0, 0, 0, 0, 0]\n",
            "[1, 1, 1, 1, 1, 1, 1, 0, 0, 0, 1, 1, 1, 1, 1, 1, 0, 0, 0, 0, 1, 1, 1, 1, 1, 0, 0, 0, 0, 0, 1, 1, 1, 1, 0, 0, 0, 0, 0, 0, 1, 1, 1, 0, 0, 0, 0, 0, 0, 0, 1, 1, 0, 0, 0, 0, 0, 0, 0, 0, 1, 0, 0, 0, 0, 0, 0, 0, 0, 0]\n",
            "[1, 1, 1, 1, 1, 1, 0, 0, 0, 0, 1, 1, 1, 1, 1, 0, 0, 0, 0, 0, 1, 1, 1, 1, 0, 0, 0, 0, 0, 0, 1, 1, 1, 0, 0, 0, 0, 0, 0, 0, 1, 1, 0, 0, 0, 0, 0, 0, 0, 0, 1, 0, 0, 0, 0, 0, 0, 0, 0, 0, 0, 0, 0, 0, 0, 0, 0, 0, 0, 0]\n",
            "[1, 1, 1, 1, 1, 0, 0, 0, 0, 0, 1, 1, 1, 1, 0, 0, 0, 0, 0, 0, 1, 1, 1, 0, 0, 0, 0, 0, 0, 0, 1, 1, 0, 0, 0, 0, 0, 0, 0, 0, 1, 0, 0, 0, 0, 0, 0, 0, 0, 0, 0, 0, 0, 0, 0, 0, 0, 0, 0, 0, 0, 0, 0, 0, 0, 0, 0, 0, 0, 0]\n",
            "[1, 1, 1, 1, 0, 0, 0, 0, 0, 0, 1, 1, 1, 0, 0, 0, 0, 0, 0, 0, 1, 1, 0, 0, 0, 0, 0, 0, 0, 0, 1, 0, 0, 0, 0, 0, 0, 0, 0, 0, 0, 0, 0, 0, 0, 0, 0, 0, 0, 0, 0, 0, 0, 0, 0, 0, 0, 0, 0, 0, 0, 0, 0, 0, 0, 0, 0, 0, 0, 0]\n"
          ],
          "name": "stdout"
        }
      ]
    },
    {
      "cell_type": "code",
      "metadata": {
        "id": "pr7zgFVJLdWI",
        "colab_type": "code",
        "colab": {
          "base_uri": "https://localhost:8080/",
          "height": 34
        },
        "outputId": "a6ca159c-2730-4f29-a79f-d3926f1baf31"
      },
      "source": [
        "def sum_bit(num):\n",
        "    \"\"\"求整数位数之和\"\"\"\n",
        "    bit_sum = 0\n",
        "    while num > 0:\n",
        "        bit_sum += num % 10\n",
        "        num = int(num / 10)\n",
        "    return bit_sum\n",
        "\n",
        "\n",
        "def moving_count(m, n, i, j, k, moved=None):\n",
        "    # 记录已遍历位置\n",
        "    if moved is None:\n",
        "        moved = [False] * (m * n)\n",
        "    if i >= m or i < 0 or j >= n or j < 0:\n",
        "        return 0\n",
        "    if moved[i * n + j]:\n",
        "        return 0\n",
        "    if sum_bit(i) + sum_bit(j) > k:\n",
        "        return 0\n",
        "    count = 1\n",
        "    moved[i * n + j] = True\n",
        "    count += moving_count(m, n, i - 1, j, k, moved)\n",
        "    count += moving_count(m, n, i + 1, j, k, moved)\n",
        "    count += moving_count(m, n, i, j - 1, k, moved)\n",
        "    count += moving_count(m, n, i, j + 1, k, moved)\n",
        "    return count\n",
        "\n",
        "\n",
        "moving_count(38, 20, 0, 0, 18)\n"
      ],
      "execution_count": null,
      "outputs": [
        {
          "output_type": "execute_result",
          "data": {
            "text/plain": [
              "742"
            ]
          },
          "metadata": {
            "tags": []
          },
          "execution_count": 121
        }
      ]
    },
    {
      "cell_type": "markdown",
      "metadata": {
        "id": "YUXXxVXCNYf4",
        "colab_type": "text"
      },
      "source": [
        "# 面试题14：剪绳子\n",
        "\n",
        "题目：给你一根长度为n的绳子，请问将绳子剪成多少段能使得各段绳子长度乘积最大？例如，当绳子的长度是8时，我们把它剪成长度分别为2,3,3的三段，此时得到的最大乘积是18。\n",
        "\n",
        "解题思路：使用动态规划求解，最优解满足\n",
        "$$\n",
        "f(n)=\\max_i(f(n-i)*f(i))\n",
        "$$\n",
        "\n",
        "<br>\n",
        "\n",
        "贪婪法：当n>=5时，我们可以证明2(n-2)>n，并且3(n-3)>n。也就是说，当绳子剩下的长度大于或者等于5的时候，我们就把它剪成长度为3或2的绳子段。另外，当n>=5时，3(n-3)>=2(n-2)，因此尽可能地多剪长度为3的绳子。\n"
      ]
    },
    {
      "cell_type": "code",
      "metadata": {
        "id": "1_XOC33c6dYW",
        "colab_type": "code",
        "colab": {
          "base_uri": "https://localhost:8080/",
          "height": 85
        },
        "outputId": "debceb16-cd52-456e-c9b0-b1a4a39a3768"
      },
      "source": [
        "# 动态规划求解\n",
        "def max_product_cut1(n):\n",
        "    if n < 1:\n",
        "        return 0, []\n",
        "    products = [0]\n",
        "    schemes = [[], ]\n",
        "    for i in range(1, n + 1):\n",
        "        max_product = 0\n",
        "        max_scheme = []\n",
        "        for j in range(0, i // 2 + 1):\n",
        "            if j == 0:\n",
        "                product = i\n",
        "                scheme = [i]\n",
        "            else:\n",
        "                product = products[j] * products[i - j]\n",
        "                scheme =  schemes[j] + schemes[i - j]\n",
        "            if max_product < product:\n",
        "                max_product = product\n",
        "                max_scheme = scheme\n",
        "        products.append(max_product)\n",
        "        schemes.append(max_scheme)\n",
        "    return products[-1], schemes[-1]\n",
        "\n",
        "print(max_product_cut1(9))\n",
        "print(max_product_cut1(10))\n",
        "\n",
        "\n",
        "# 贪婪算法求解\n",
        "def max_product_cut2(n):\n",
        "    if n == 0:\n",
        "        return 0, []\n",
        "    if n <= 3:\n",
        "        return n, [n]\n",
        "    times_of_3 = n // 3\n",
        "    if n % 3 == 1:\n",
        "        schemes = [2, 2] + [3] * (times_of_3 - 1)\n",
        "        return 3**(times_of_3 - 1) * 2 * 2, schemes\n",
        "    if n % 3 == 2:\n",
        "        schemes = [2] + [3] * times_of_3\n",
        "        return 3**times_of_3 * 2, schemes\n",
        "    return 3**times_of_3, [3] * times_of_3\n",
        "\n",
        "print(max_product_cut2(9))\n",
        "print(max_product_cut2(10))"
      ],
      "execution_count": null,
      "outputs": [
        {
          "output_type": "stream",
          "text": [
            "(27, [3, 3, 3])\n",
            "(36, [2, 2, 3, 3])\n",
            "(27, [3, 3, 3])\n",
            "(36, [2, 2, 3, 3])\n"
          ],
          "name": "stdout"
        }
      ]
    },
    {
      "cell_type": "markdown",
      "metadata": {
        "id": "XW82Mic_BVf5",
        "colab_type": "text"
      },
      "source": [
        "# 面试题15：二进制中1的个数\n",
        "\n",
        "题目：请实现一个函数，输入一个整数，输出该数二进制表示中1的个数。例如，把9表示成二进制时1001，有2位是1。因此，如果输入9，则该函数输出2。\n",
        "\n",
        "普通实现：通过将数组与1相与，逐次判断最后一位是不是1，判断之后右移数字一位。\n",
        "\n",
        "亮眼实现：若数字n大于0，则必有1位不为0，若n最后一位为1，则n-1仅最后一位改变其余位不变，否则若低m位为1，则n-1的低m位至0位取反，其余位不变，因此n&(n-1)会将最低位1至0，其余位不变，这种方法不用循环所有位。\n"
      ]
    },
    {
      "cell_type": "code",
      "metadata": {
        "id": "uquxuuCPTrqK",
        "colab_type": "code",
        "colab": {
          "base_uri": "https://localhost:8080/",
          "height": 85
        },
        "outputId": "21bf06b5-f477-452c-ff80-08b48c756f2d"
      },
      "source": [
        "def bit_count(n):\n",
        "    count = 0\n",
        "    while n:\n",
        "        if n & 1:\n",
        "            count += 1\n",
        "        n >>= 1\n",
        "    return count\n",
        "\n",
        " \n",
        "print(bit_count(9))\n",
        "print(bit_count(15))\n",
        "\n",
        "\n",
        "def bit_count1(n):\n",
        "    count = 0\n",
        "    while n:\n",
        "        count += 1\n",
        "        n &= n-1\n",
        "    return count\n",
        "\n",
        "print(bit_count1(9))\n",
        "print(bit_count1(15))"
      ],
      "execution_count": null,
      "outputs": [
        {
          "output_type": "stream",
          "text": [
            "2\n",
            "4\n",
            "2\n",
            "4\n"
          ],
          "name": "stdout"
        }
      ]
    },
    {
      "cell_type": "code",
      "metadata": {
        "id": "2tHjRotyUAn5",
        "colab_type": "code",
        "colab": {}
      },
      "source": [
        "题目：给定整数m和n，计算最少需要改变m的多少位才能得到n？\n",
        "\n",
        "解题思路：计算m和n异或所得值中1的个数。\n"
      ],
      "execution_count": null,
      "outputs": []
    },
    {
      "cell_type": "markdown",
      "metadata": {
        "id": "wztuNCpwbM_3",
        "colab_type": "text"
      },
      "source": [
        "# 面试题16：数值的整数次方\n",
        "\n",
        "题目：实现函数double Power(double base, int exponent)，求base的exponent次方，不得使用库函数，同时不用考虑大数问题。\n",
        "\n",
        "\n",
        "解题思路：关键在于考虑不同数值条件、边界条件，亦可以通过递归进行优化！"
      ]
    },
    {
      "cell_type": "code",
      "metadata": {
        "id": "vSH1dgi6bg1E",
        "colab_type": "code",
        "colab": {
          "base_uri": "https://localhost:8080/",
          "height": 51
        },
        "outputId": "5a076cb2-bdcd-4586-923c-a4debeeb78cd"
      },
      "source": [
        "def power(base, exponent):\n",
        "    if base < 0:\n",
        "        raise ValueError('base num less 0')\n",
        "    if base == 0:\n",
        "        if exponent == 0:\n",
        "            return 1.\n",
        "        else:\n",
        "            return 0.\n",
        "    if exponent < 0:\n",
        "        exponent_ = -exponent\n",
        "    else:\n",
        "        exponent_ = exponent\n",
        "    res = 1.0\n",
        "    for i in range(exponent_):\n",
        "        res *= base\n",
        "    \n",
        "    if exponent < 0:\n",
        "        res = 1. / res\n",
        "    return res\n",
        "\n",
        "\n",
        "def power_recusive(n, exponent):\n",
        "    num = power(n, exponent // 2)\n",
        "    if exponent % 2 == 1:\n",
        "        return num * num * n\n",
        "    return num * num\n",
        "\n",
        "\n",
        "print(power(2, 3))\n",
        "print(power_recusive(2, -1))"
      ],
      "execution_count": null,
      "outputs": [
        {
          "output_type": "stream",
          "text": [
            "8.0\n",
            "0.5\n"
          ],
          "name": "stdout"
        }
      ]
    },
    {
      "cell_type": "markdown",
      "metadata": {
        "id": "tUG5tX3QcUCi",
        "colab_type": "text"
      },
      "source": [
        "# 面试题17：打印从1到最大的n位数\n",
        "\n",
        "题目：输入数字n，按顺序打印出从1到最大的n位十进制数。比如输入3，则打印出1、2、3一直到最大的3位数999。\n"
      ]
    },
    {
      "cell_type": "code",
      "metadata": {
        "id": "lVbYYEa2yUH-",
        "colab_type": "code",
        "colab": {
          "base_uri": "https://localhost:8080/",
          "height": 1000
        },
        "outputId": "a1a71b7b-6c40-4514-c859-a413234c4661"
      },
      "source": [
        "# 全排列实现\n",
        "def print_max_bit(n, index=0, nums=None):\n",
        "    if nums is None:\n",
        "        nums = ['0'] * n\n",
        "    if index == n:\n",
        "        num = ''.join(nums).lstrip('0')\n",
        "        if num:\n",
        "            print(num)\n",
        "        return\n",
        "    for i in range(10):\n",
        "        nums[index]=  str(i)\n",
        "        print_max_bit(n, index + 1, nums)\n",
        "\n",
        "print_max_bit(2)\n",
        "\n",
        "\n",
        "# 字符串加法实现，但是判断终止时间复杂度为O(n)\n",
        "def increment(nums):\n",
        "    for i in range(len(nums) - 1, -1, -1):\n",
        "        if nums[i] == '9':\n",
        "            nums[i] = '0'\n",
        "        else:\n",
        "            nums[i] = str(int(nums[i]) + 1)\n",
        "            break\n",
        "    return nums\n",
        "\n",
        "def print_max_bit1(n):\n",
        "    nums = ['0'] * n\n",
        "    nums[-1] = '1'\n",
        "\n",
        "    while not all(char == '0' for char in nums):\n",
        "        print(nums)\n",
        "        nums = increment(nums)\n",
        "\n",
        "# print_max_bit1(2)"
      ],
      "execution_count": null,
      "outputs": [
        {
          "output_type": "stream",
          "text": [
            "1\n",
            "2\n",
            "3\n",
            "4\n",
            "5\n",
            "6\n",
            "7\n",
            "8\n",
            "9\n",
            "10\n",
            "11\n",
            "12\n",
            "13\n",
            "14\n",
            "15\n",
            "16\n",
            "17\n",
            "18\n",
            "19\n",
            "20\n",
            "21\n",
            "22\n",
            "23\n",
            "24\n",
            "25\n",
            "26\n",
            "27\n",
            "28\n",
            "29\n",
            "30\n",
            "31\n",
            "32\n",
            "33\n",
            "34\n",
            "35\n",
            "36\n",
            "37\n",
            "38\n",
            "39\n",
            "40\n",
            "41\n",
            "42\n",
            "43\n",
            "44\n",
            "45\n",
            "46\n",
            "47\n",
            "48\n",
            "49\n",
            "50\n",
            "51\n",
            "52\n",
            "53\n",
            "54\n",
            "55\n",
            "56\n",
            "57\n",
            "58\n",
            "59\n",
            "60\n",
            "61\n",
            "62\n",
            "63\n",
            "64\n",
            "65\n",
            "66\n",
            "67\n",
            "68\n",
            "69\n",
            "70\n",
            "71\n",
            "72\n",
            "73\n",
            "74\n",
            "75\n",
            "76\n",
            "77\n",
            "78\n",
            "79\n",
            "80\n",
            "81\n",
            "82\n",
            "83\n",
            "84\n",
            "85\n",
            "86\n",
            "87\n",
            "88\n",
            "89\n",
            "90\n",
            "91\n",
            "92\n",
            "93\n",
            "94\n",
            "95\n",
            "96\n",
            "97\n",
            "98\n",
            "99\n"
          ],
          "name": "stdout"
        }
      ]
    },
    {
      "cell_type": "markdown",
      "metadata": {
        "id": "NrVqdnnZy6ch",
        "colab_type": "text"
      },
      "source": [
        "# 面试题18：删除链表的节点\n",
        "\n",
        "题目一：在O(1)时间内删除链表节点。\n",
        "\n",
        "给定单向链表的头指针和一个节点指针，定义一个函数在O(1)时间内删除该节点。链表节点与函数的定义如下：\n",
        "```c++\n",
        "struc ListNode\n",
        "{\n",
        "    int m_nValue;\n",
        "    ListNode* m_pNext;\n",
        "};\n",
        "```\n",
        "\n",
        "解题思路：将下个节点的内容复制到待删除节点，删除下个节点，并修改当前节点的指针。"
      ]
    },
    {
      "cell_type": "code",
      "metadata": {
        "id": "DdvDrvatBC_z",
        "colab_type": "code",
        "colab": {
          "base_uri": "https://localhost:8080/",
          "height": 52
        },
        "outputId": "b8ab8853-b028-4f73-9ab1-f432bff9a532"
      },
      "source": [
        "class ListNode(object):\n",
        "    def __init__(self, value, p_next=None):\n",
        "        self.value = value\n",
        "        self.p_next = p_next\n",
        "\n",
        "\n",
        "class List(object):\n",
        "    def __init__(self, values=None):\n",
        "        self.root = None\n",
        "        self._initialize(values)\n",
        "    \n",
        "    def _initialize(self, values):\n",
        "        if not values:\n",
        "            return\n",
        "        self.root = node = ListNode(values[0])\n",
        "        for v in values[1:]:\n",
        "            next_node = ListNode(v)\n",
        "            node.p_next = next_node\n",
        "            node = next_node\n",
        "    \n",
        "    def transverse(self):\n",
        "        node = self.root\n",
        "        values=  []\n",
        "        while node is not None:\n",
        "            values.append(node.value)\n",
        "            node = node.p_next\n",
        "        return values\n",
        "    \n",
        "    def find(self, value):\n",
        "        node = self.root\n",
        "        while node is not None:\n",
        "            if node.value == value:\n",
        "                return node\n",
        "            node = node.p_next\n",
        "        return None\n",
        "    \n",
        "    def delete_by_node(self, node):\n",
        "        # 删除根节点\n",
        "        if self.root == node:\n",
        "            self.root = node.p_next\n",
        "            del node\n",
        "        # 删除尾节点\n",
        "        elif node.p_next is None:\n",
        "            father = self.root\n",
        "            while father.p_next != node:\n",
        "                father = father.p_next\n",
        "            if father is None:\n",
        "                raise ValueError('delete node is not exist!')\n",
        "            father.p_next = node.p_next\n",
        "            del node\n",
        "        # 删除中间节点\n",
        "        else:\n",
        "            node.value = node.p_next.value\n",
        "            node.p_next = node.p_next.p_next\n",
        "            del node.p_next\n",
        "\n",
        "linked_list = List([1, 2, 3, 4, 4, 5, 5, 6])\n",
        "print('linked list values: ', linked_list.transverse())\n",
        "node = linked_list.find(6)\n",
        "linked_list.delete_by_node(node)\n",
        "print('linked list values: ', linked_list.transverse())"
      ],
      "execution_count": null,
      "outputs": [
        {
          "output_type": "stream",
          "text": [
            "linked list values:  [1, 2, 3, 4, 4, 5, 5, 6]\n",
            "linked list values:  [1, 2, 3, 4, 4, 5, 5]\n"
          ],
          "name": "stdout"
        }
      ]
    },
    {
      "cell_type": "markdown",
      "metadata": {
        "id": "ReKXsx2eDDp3",
        "colab_type": "text"
      },
      "source": [
        "# 面试题19：正则表达式匹配\n",
        "\n",
        "题目：请实现一个函数匹配（re.match）包含‘.’和‘*’的正则表达式。\n",
        "\n",
        "解题思路：非确定有限状态机问题，以下比较操作均为单个字符比较。\n",
        "\n",
        "（1）当前匹配字符的后一个字符不为‘*’时，直接比较字符串与模型，不相等返回false，相等继续比较字符串和模式的各自下一个字符。\n",
        "\n",
        "（2）当前匹配字符的后一个字符为‘*’且模式与字符串不相等，模式移动两个字符，字符串保持不变；\n",
        "\n",
        "（3）当前匹配字符的后一个字符为‘*’且模式与字符串相等，模式和字符串的动作有：\n",
        "- 模式保持不变，字符串移动一个字符；\n",
        "- 模式移动两个字符，字符串保持不变；\n",
        "- 模式移动两个字符，字符串移动一个字符；\n"
      ]
    },
    {
      "cell_type": "code",
      "metadata": {
        "id": "sZaGJfP_ETCP",
        "colab_type": "code",
        "colab": {
          "base_uri": "https://localhost:8080/",
          "height": 34
        },
        "outputId": "77f450f4-0b0e-4f49-a84d-cf00432e8203"
      },
      "source": [
        "def str_match(string, regex):\n",
        "    if not string and not regex:\n",
        "        return True\n",
        "    if (not string and regex) or (string and not regex):\n",
        "        return False\n",
        "    # 后一个字符为“*\"\n",
        "    if len(regex) > 1 and regex[1] == '*':\n",
        "        # 首字符不相等\n",
        "        if regex[0] != string[0] and regex[0] != '.':\n",
        "            return str_match(string, regex[2:])\n",
        "        # 首字符相等\n",
        "        return (str_match(string[1:], regex) or \n",
        "                str_match(string, regex[2:]) or \n",
        "                str_match(string[1:], regex[2:]))\n",
        "    # 后一个字符不为“*\"，首字符相等\n",
        "    if regex[0] == string[0] or regex[0] == '.':\n",
        "        return str_match(string[1:], regex[1:])\n",
        "    return False\n",
        "\n",
        "\n",
        "str_match('baabcab', 'ba.*ab')"
      ],
      "execution_count": null,
      "outputs": [
        {
          "output_type": "execute_result",
          "data": {
            "text/plain": [
              "True"
            ]
          },
          "metadata": {
            "tags": []
          },
          "execution_count": 34
        }
      ]
    },
    {
      "cell_type": "markdown",
      "metadata": {
        "id": "i1J1WcB-HWcj",
        "colab_type": "text"
      },
      "source": [
        "# 面试题20：表示数值的字符串\n",
        "\n",
        "题目：请实现一个函数用来判断字符串是否表示数值（包括整数和小数）。例如，字符串“+100”、“5e2”、“-123”、“3.1416”及“-1E-16”都表示数值，但“12e”、“1a3.14”、“1.2.3”、“+-5”及“12e+5.4”都不是。\n",
        "\n",
        "解题思路；数值字符串遵循模式A[.[B]][e|EC]或.B[e|EC]，其中A为整数部分，B为小数部分，C为指数部分。其中，A和C可能以+-号开头。\n"
      ]
    },
    {
      "cell_type": "code",
      "metadata": {
        "id": "hgQeBqmLJCH3",
        "colab_type": "code",
        "colab": {
          "base_uri": "https://localhost:8080/",
          "height": 212
        },
        "outputId": "b2741d54-5604-4ea8-aae8-18266bf0d21a"
      },
      "source": [
        "def scan_number(string, with_symbol=False):\n",
        "    # regex = '[+-]?\\d+'\n",
        "    if with_symbol:\n",
        "        if string[0] == '-' or string [0] == '+':\n",
        "            if len(string) > 1 and ord('0') <= ord(string[1]) <= ord('9'):\n",
        "                string = string[1:]\n",
        "    while string and ord('0') <= ord(string[0]) <= ord('9'):\n",
        "        string = string[1:]\n",
        "    return string\n",
        "\n",
        "\n",
        "def is_numeric(string):\n",
        "    # 空串，返回False\n",
        "    if not string:\n",
        "        return False\n",
        "    # match A\n",
        "    string = scan_number(string, with_symbol=True)\n",
        "    # match B\n",
        "    if string and string[0] == '.' and len(string) > 1:\n",
        "        string = string[1:]\n",
        "    string = scan_number(string)\n",
        "    # match C\n",
        "    if string and (string[0] == 'e' or string[0] == 'E'):\n",
        "        string = string[1:]\n",
        "        if not string:\n",
        "            return False\n",
        "        string = scan_number(string, with_symbol=True)\n",
        "    return not string\n",
        "\n",
        "\n",
        "import re\n",
        "def is_numeric_regex(string, regex='^([+-]?\\d+)?(\\.\\d*)?([eE][+-]?\\d+)?$'):\n",
        "    match =  re.match(regex, string)\n",
        "    return match is not None and match.group() not in ('', '.')\n",
        "\n",
        "\n",
        "for string in ['+100', '5e2', '3.1416', '-1E-16', '12e', '1a3.14', '1.2.3', '+-5', '12e+-5.4', '.', '-']:\n",
        "    print(string, is_numeric(string), is_numeric_regex(string))"
      ],
      "execution_count": null,
      "outputs": [
        {
          "output_type": "stream",
          "text": [
            "+100 True True\n",
            "5e2 True True\n",
            "3.1416 True True\n",
            "-1E-16 True True\n",
            "12e False False\n",
            "1a3.14 False False\n",
            "1.2.3 False False\n",
            "+-5 False False\n",
            "12e+-5.4 False False\n",
            ". False False\n",
            "- False False\n"
          ],
          "name": "stdout"
        }
      ]
    },
    {
      "cell_type": "markdown",
      "metadata": {
        "id": "NLJagXDkMRRo",
        "colab_type": "text"
      },
      "source": [
        "# 面试题21：调整数组顺序使奇数位于偶数前面\n",
        "\n",
        "题目：输入一个整数数组，实现一个函数来调整该数组中数字的顺序，使得所有奇数位于数组的前半部分，所有偶数位于数组的后半部分。\n",
        "\n",
        "解题思路：维护两个指针，第一个指针从前向后扫描偶数，第二个指针从后向前扫描奇数，则交换两指针指向元素。"
      ]
    },
    {
      "cell_type": "code",
      "metadata": {
        "id": "0HtLHUYrOtDO",
        "colab_type": "code",
        "colab": {
          "base_uri": "https://localhost:8080/",
          "height": 34
        },
        "outputId": "5b0292ab-d840-47a6-fdda-f01a54ae80ea"
      },
      "source": [
        "def reorder(array, isleft):\n",
        "    i, j = 0, len(array) - 1\n",
        "    while i < j:\n",
        "        while i < j and isleft(array[i]):\n",
        "            i += 1\n",
        "        while i < j and not isleft(array[j]):\n",
        "            j -= 1\n",
        "        if i < j:\n",
        "            array[i], array[j] = array[j], array[i]\n",
        "            i += 1\n",
        "            j -= 1\n",
        "    return array\n",
        "\n",
        "\n",
        "def isleft(value):\n",
        "    return value % 2 != 0\n",
        "\n",
        "array = [0, 1, 3, 2, 4, 5, 6, 1, 10, 7, 8]\n",
        "reorder(array, isleft)"
      ],
      "execution_count": null,
      "outputs": [
        {
          "output_type": "execute_result",
          "data": {
            "text/plain": [
              "[7, 1, 3, 1, 5, 4, 6, 2, 10, 0, 8]"
            ]
          },
          "metadata": {
            "tags": []
          },
          "execution_count": 116
        }
      ]
    },
    {
      "cell_type": "markdown",
      "metadata": {
        "id": "h2pk8XHKimA0",
        "colab_type": "text"
      },
      "source": [
        "# 面试题23：链表中环的入口节点\n",
        "\n",
        "题目：如果一个链表中包含环，如何找出环的入口节点？例如，在如图3.8所示的链表中，环的入口节点是节点3。\n",
        "```shell\n",
        "         ___________\n",
        "        ↓           ↑\n",
        "1 → 2 → 3 → 4 → 5 → 6\n",
        "```\n",
        "\n",
        "解题思路：\n",
        "\n",
        "第一步先确定链表中是否含有环，初始化两个指针指向根节点，然后移动两个指针，两个指针的步长分别为1和2，若两个指针相遇，则链表中有环。\n",
        "\n",
        "第二步再确定环入口，由于两指针相遇一定是在环内，当两个指针相遇时，固定一定指针，以步长1移动另一个指针，则两指针再次相遇时指针移动的步数为环的长度。\n",
        "\n",
        "假设链表含节点数为n、环的长度为m，环入口为第k个节点，则初始时两指针均指向根节点，则分别移动m+k和k步时，两指针相遇在环入口节点。"
      ]
    },
    {
      "cell_type": "code",
      "metadata": {
        "id": "E4-egGjcQtFc",
        "colab_type": "code",
        "colab": {
          "base_uri": "https://localhost:8080/",
          "height": 34
        },
        "outputId": "41d48fd8-89ae-486f-c265-a12eb64aee6e"
      },
      "source": [
        "class ListNode(object):\n",
        "    def __init__(self, value, next=None):\n",
        "        self.value = value\n",
        "        self.next = next\n",
        "\n",
        "\n",
        "def print_list(root):\n",
        "    values = []\n",
        "    while root is not None:\n",
        "        values.append(root.value)\n",
        "        root = root.next\n",
        "    print(values)\n",
        "\n",
        "\n",
        "nodes = [ListNode(i) for i in range(1, 7)]\n",
        "for i in range(len(nodes) - 1):\n",
        "    nodes[i].next = nodes[i + 1]\n",
        "nodes[-1].next = nodes[2]\n",
        "root = nodes[0]\n",
        "\n",
        "\n",
        "def find_loop_entrance(root):\n",
        "    # 查找是否有环\n",
        "    p1, p2 = root, root\n",
        "    while p1 is not None and p2 is not None:\n",
        "        p1 = p1.next\n",
        "        if p2.next is None:\n",
        "            break\n",
        "        p2 = p2.next.next\n",
        "        if p1 == p2:\n",
        "            break\n",
        "    # 不存在环\n",
        "    if p1 is None or p2 is None or p1.next is None or p2.next is None:\n",
        "        return None\n",
        "    # 查询环中节点数\n",
        "    loop_count = 1\n",
        "    p2 = p2.next\n",
        "    while p2 != p1:\n",
        "        p2 = p2.next\n",
        "        loop_count += 1\n",
        "    # 查找环入口\n",
        "    p1, p2 = root, root\n",
        "    for i in range(loop_count):\n",
        "        p2 = p2.next\n",
        "    while p1 != p2:\n",
        "        p1 = p1.next\n",
        "        p2 = p2.next\n",
        "    return p1.value\n",
        "\n",
        "find_loop_entrance(root)"
      ],
      "execution_count": null,
      "outputs": [
        {
          "output_type": "execute_result",
          "data": {
            "text/plain": [
              "3"
            ]
          },
          "metadata": {
            "tags": []
          },
          "execution_count": 2
        }
      ]
    },
    {
      "cell_type": "markdown",
      "metadata": {
        "id": "QYavBds-bsIB",
        "colab_type": "text"
      },
      "source": [
        "# 面试题24：反转链表\n",
        "\n",
        "题目：定义一个函数，输入一个链表的头结点，反转该链表并输出反转后链表的头结点。\n",
        "\n",
        "使用面试题23定义的链表节点类。"
      ]
    },
    {
      "cell_type": "code",
      "metadata": {
        "id": "O0Y50MHHesVa",
        "colab_type": "code",
        "colab": {
          "base_uri": "https://localhost:8080/",
          "height": 50
        },
        "outputId": "1575084a-50d6-4461-b0c5-180bf20d12ed"
      },
      "source": [
        "nodes = [ListNode(i) for i in range(10)]\n",
        "for i in range(len(nodes) - 1):\n",
        "    nodes[i].next = nodes[i + 1]\n",
        "if not nodes:\n",
        "    root = None\n",
        "else:\n",
        "    root = nodes[0]\n",
        "\n",
        "\n",
        "def reverse_list(root):\n",
        "    father_node, node = None, root\n",
        "    while node is not None:\n",
        "        next_node = node.next\n",
        "        node.next = father_node\n",
        "        father_node = node\n",
        "        node = next_node\n",
        "    return father_node\n",
        "\n",
        "\n",
        "print_list(root)\n",
        "print_list(reverse_list(root))"
      ],
      "execution_count": null,
      "outputs": [
        {
          "output_type": "stream",
          "text": [
            "[0, 1, 2, 3, 4, 5, 6, 7, 8, 9]\n",
            "[9, 8, 7, 6, 5, 4, 3, 2, 1, 0]\n"
          ],
          "name": "stdout"
        }
      ]
    },
    {
      "cell_type": "markdown",
      "metadata": {
        "id": "AholxMt1e--X",
        "colab_type": "text"
      },
      "source": [
        "# 面试题25：合并两个排序的链表\n",
        "\n",
        "题目：输入两个递增排序的链表，合并这两个链表并使新链表中节点顺序是递增排序的。\n",
        "\n",
        "使用面试题23中定义的链表节点类。"
      ]
    },
    {
      "cell_type": "code",
      "metadata": {
        "id": "ANK5MOjoTZR4",
        "colab_type": "code",
        "colab": {
          "base_uri": "https://localhost:8080/",
          "height": 34
        },
        "outputId": "1941b362-77f1-4c89-aa32-39ce062d7a4a"
      },
      "source": [
        "nodes = [ListNode(i) for i in [1, 3, 5, 7]]\n",
        "for i in range(len(nodes) - 1):\n",
        "    nodes[i].next = nodes[i + 1]\n",
        "root1 = nodes[0]\n",
        "\n",
        "nodes = [ListNode(i) for i in [2, 4, 6, 8]]\n",
        "for i in range(len(nodes) - 1):\n",
        "    nodes[i].next = nodes[i + 1]\n",
        "root2 = nodes[0]\n",
        "\n",
        "\n",
        "def merge_ordered_list(root1, root2):\n",
        "    if root1 is None:\n",
        "        return root2\n",
        "    if root2 is None:\n",
        "        return root1\n",
        "    if root1.value < root2.value:\n",
        "        head = root1\n",
        "        head.next = merge_ordered_list(root1.next, root2)\n",
        "    else:\n",
        "        head = root2\n",
        "        head.next = merge_ordered_list(root1, root2.next)\n",
        "    return head\n",
        "\n",
        "\n",
        "# print_list(merge_ordered_list(root1, root2))\n",
        "\n",
        "\n",
        "def merge_ordered_list1(root1, root2):\n",
        "    if root1 is None:\n",
        "        return root2\n",
        "    if root2 is None:\n",
        "        return root1\n",
        "    if root1.value < root2.value:\n",
        "        root, root1 = root1, root1.next\n",
        "    else:\n",
        "        root, root2 = root2, root2.next\n",
        "    node = root\n",
        "    while root1 is not None and root2 is not None:\n",
        "        if root1.value < root2.value:\n",
        "            node.next, root1 = root1, root1.next\n",
        "        else:\n",
        "            node.next, root2 = root2, root2.next\n",
        "        node = node.next\n",
        "    if root1 is not None:\n",
        "        node.next = root1\n",
        "    if root2 is not None:\n",
        "        node.next = root2\n",
        "    return root\n",
        "\n",
        "# 第一种解决执行后，再执行第二种会报错\n",
        "print_list(merge_ordered_list1(root1, root2))"
      ],
      "execution_count": null,
      "outputs": [
        {
          "output_type": "stream",
          "text": [
            "[1, 2, 3, 4, 5, 6, 7, 8]\n"
          ],
          "name": "stdout"
        }
      ]
    },
    {
      "cell_type": "markdown",
      "metadata": {
        "id": "p0XmyivHULS8",
        "colab_type": "text"
      },
      "source": [
        "# 面试题26：树的子结构\n",
        "\n",
        "题目：输入两颗二叉树A和B，判断B是不是A的子结构。\n",
        "\n",
        "```\n",
        "       8               8\n",
        "     /   \\           /   \\\n",
        "    8     7         9     2\n",
        "  /   \\\n",
        " 9      2\n",
        "      /   \\\n",
        "     4     7\n",
        "```\n",
        "\n",
        "解题思路：遍历A树各节点i，判断以节点i为根节点的子树是否与B树相等。"
      ]
    },
    {
      "cell_type": "code",
      "metadata": {
        "id": "pRVW7E1Sp0o6",
        "colab_type": "code",
        "colab": {
          "base_uri": "https://localhost:8080/",
          "height": 34
        },
        "outputId": "82f989cf-d53c-4d6b-bbf0-ef3fba68cc5c"
      },
      "source": [
        "class BTNode(object):\n",
        "    def __init__(self, value, left=None, right=None):\n",
        "        self.value = value\n",
        "        self.left = left\n",
        "        self.right = right\n",
        "\n",
        "\n",
        "def post_order(root, values=None):\n",
        "    if values is None:\n",
        "        values = []\n",
        "    if root is not None:\n",
        "        post_order(root.left, values)\n",
        "        post_order(root.right, values)\n",
        "        values.append(root.value)\n",
        "    return values\n",
        "\n",
        "\n",
        "def initialize_binary_tree(array):\n",
        "    \"\"\"根据一位数组初始化二叉树\n",
        "    第n个节点的左子节点为2n+1，右子节点为2n+2\n",
        "    \"\"\"\n",
        "    array = [BTNode(num) if num is not None else None for num in array]\n",
        "    n = len(array)\n",
        "    for i in range(n):\n",
        "        if array[i] is None:\n",
        "            continue\n",
        "        if 2 * i + 1 < n:\n",
        "            array[i].left = array[2 * i + 1]\n",
        "        if 2 * i + 2 < n:\n",
        "            array[i].right = array[2 * i + 2]\n",
        "    return array[0]\n",
        "\n",
        "\n",
        "def is_equal_bt(tree1, tree2):\n",
        "    \"\"\"判断两个二叉树是否相等\"\"\"\n",
        "    if tree2 is None:\n",
        "        return True\n",
        "    if tree1 is None:\n",
        "        return False\n",
        "    return tree1.value == tree2.value and is_equal_bt(tree1.left, tree2.left) and is_equal_bt(\n",
        "        tree1.right, tree2.right)\n",
        "\n",
        "\n",
        "def is_subtree(tree1, tree2):\n",
        "    \"\"\"判断树2是不是树1的子树\"\"\"\n",
        "    if tree1 is None:\n",
        "        return False\n",
        "    return is_equal_bt(tree1, tree2) or is_subtree(tree1.left, tree2) or is_subtree(tree1.right, tree2)\n",
        "\n",
        "\n",
        "tree1 = BTNode(8, left=BTNode(8, left=BTNode(9), right=BTNode(2, left=BTNode(4), right=BTNode(7))), right=BTNode(7))\n",
        "tree2 = BTNode(8, left=BTNode(9), right=BTNode(2))\n",
        "is_subtree(tree1, tree2)"
      ],
      "execution_count": null,
      "outputs": [
        {
          "output_type": "execute_result",
          "data": {
            "text/plain": [
              "True"
            ]
          },
          "metadata": {
            "tags": []
          },
          "execution_count": 1
        }
      ]
    },
    {
      "cell_type": "markdown",
      "metadata": {
        "id": "NmQnLIPyssAW",
        "colab_type": "text"
      },
      "source": [
        "# 面试题27：二叉树的镜像\n",
        "\n",
        "题目：请完成一个函数，输入一棵二叉树，该函数输出它的镜像。\n",
        "\n",
        "使用面试题26定义的二叉树节点类。"
      ]
    },
    {
      "cell_type": "code",
      "metadata": {
        "id": "ERx6e65G6xUA",
        "colab_type": "code",
        "colab": {
          "base_uri": "https://localhost:8080/",
          "height": 52
        },
        "outputId": "d69edacc-8ed3-43a9-c3e4-7d36782c9589"
      },
      "source": [
        "nodes = [BTNode(num) for num in (8, 6, 10, 5, 7, 9, 11)]\n",
        "nodes[0].left, nodes[0].right = nodes[1], nodes[2]\n",
        "nodes[1].left, nodes[1].right = nodes[3], nodes[4]\n",
        "nodes[2].left, nodes[2].right = nodes[5], nodes[6]\n",
        "\n",
        "\n",
        "def mirror(root):\n",
        "    if root is None:\n",
        "        return\n",
        "    root.left, root.right = root.right, root.left\n",
        "    mirror(root.left)\n",
        "    mirror(root.right)\n",
        "    \n",
        "\n",
        "print(post_order(nodes[0]))\n",
        "mirror(nodes[0])\n",
        "print(post_order(nodes[0]))"
      ],
      "execution_count": null,
      "outputs": [
        {
          "output_type": "stream",
          "text": [
            "[5, 7, 6, 9, 11, 10, 8]\n",
            "[11, 9, 10, 7, 5, 6, 8]\n"
          ],
          "name": "stdout"
        }
      ]
    },
    {
      "cell_type": "markdown",
      "metadata": {
        "id": "F88MLV-4xPg5",
        "colab_type": "text"
      },
      "source": [
        "# 面试题28：对称的二叉树\n",
        "\n",
        "题目：请实现一个函数，用来判断一棵二叉树是不是对称的。如果一棵二叉树和它的镜像一样，那么它的对称的。例如，在如图4.3所示的3棵二叉树中，第一棵二叉树是对称的，而另外两棵不是。"
      ]
    },
    {
      "cell_type": "code",
      "metadata": {
        "id": "an62VgjK6Z_T",
        "colab_type": "code",
        "colab": {
          "base_uri": "https://localhost:8080/",
          "height": 104
        },
        "outputId": "bddba49d-8427-4231-e019-adf35656f738"
      },
      "source": [
        "tree1 = initialize_binary_tree([8, 6, 6, 5, 7, 7, 5])   # 对称\n",
        "tree2 = initialize_binary_tree([8, 6, 9, 5, 7, 7, 5])   # 不对称\n",
        "tree3 = initialize_binary_tree([7, 7, 7, 7, 7, 7, None]) # 不对称  \n",
        "\n",
        "\n",
        "def pre_order_loop(root):\n",
        "    \"\"\"非递归形式前序遍历二叉树，并输出非叶节点的None子节点\"\"\"\n",
        "    if root is None:\n",
        "        return None\n",
        "    values = [root.value]\n",
        "    stack = [root.right, root.left]\n",
        "    while stack:\n",
        "        node = stack.pop()\n",
        "        if node is None:\n",
        "            values.append(None)\n",
        "        else:\n",
        "            values.append(node.value)\n",
        "            if node.right is not None or node.left is not None:\n",
        "                stack.append(node.right)\n",
        "                stack.append(node.left)\n",
        "    return values\n",
        "\n",
        "\n",
        "def pre_order_rl(root, values=None):\n",
        "    \"\"\"node right left先序遍历，并输出非叶节点的None子节点\"\"\"\n",
        "    if root is None:\n",
        "        values.append(None)\n",
        "        return\n",
        "    if values is None:\n",
        "        values = []\n",
        "    values.append(root.value)\n",
        "    if root.left or root.right:\n",
        "        pre_order_rl(root.right, values)\n",
        "        pre_order_rl(root.left, values)\n",
        "    return values\n",
        "\n",
        "print(pre_order_loop(tree3))\n",
        "print(pre_order_rl(tree3))\n",
        "\n",
        "\n",
        "def is_mirror_bt(root):\n",
        "    return pre_order_loop(root) == pre_order_rl(root)\n",
        "\n",
        "\n",
        "print(is_mirror_bt(tree1))\n",
        "print(is_mirror_bt(tree2))\n",
        "print(is_mirror_bt(tree3))"
      ],
      "execution_count": null,
      "outputs": [
        {
          "output_type": "stream",
          "text": [
            "[7, 7, 7, 7, 7, 7, None]\n",
            "[7, 7, None, 7, 7, 7, 7]\n",
            "True\n",
            "False\n",
            "False\n"
          ],
          "name": "stdout"
        }
      ]
    },
    {
      "cell_type": "markdown",
      "metadata": {
        "id": "CvakmfD9C6Wa",
        "colab_type": "text"
      },
      "source": [
        "# 面试题29：顺时针打印矩阵\n",
        "\n",
        "题目：输入一个矩阵，按照从外向里以顺时针的顺序依次打印出每一个数字。"
      ]
    },
    {
      "cell_type": "code",
      "metadata": {
        "id": "Syr94dq1aou3",
        "colab_type": "code",
        "colab": {
          "base_uri": "https://localhost:8080/",
          "height": 52
        },
        "outputId": "de8bc2d9-2182-498d-e66a-bea17de4fadd"
      },
      "source": [
        "import numpy as np\n",
        "\n",
        "\n",
        "def print_matrix(matrix):\n",
        "    n_rows, n_columns = len(matrix), len(matrix[0])\n",
        "    r1, r2, c1, c2 = 0, n_rows - 1, 0, n_columns - 1\n",
        "    values = []\n",
        "    while r1 <= r2 and c1 <= c2:\n",
        "        # 打印上行\n",
        "        for i in range(c1, c2 + 1):\n",
        "            values.append(matrix[r1][i])\n",
        "        # 打印右列\n",
        "        if c2 > c1:\n",
        "            for i in range(r1 + 1, r2 + 1):\n",
        "                values.append(matrix[i][c2])\n",
        "        # 打印下行\n",
        "        if r2 > r1:\n",
        "            for i in range(c2 - 1, c1 - 1, -1):\n",
        "                values.append(matrix[r2][i])\n",
        "        # 打印左列\n",
        "        if c1 < c2:\n",
        "            for i in range(r2 - 1, r1, -1):\n",
        "                values.append(matrix[i][c1])\n",
        "        r1, r2, c1, c2 = r1 + 1, r2 - 1, c1 + 1, c2 - 1\n",
        "    return values\n",
        "\n",
        "\n",
        "print(print_matrix(np.reshape(np.arange(1, 17), (4,4))))\n",
        "print(print_matrix(np.reshape(np.arange(1, 13), (3,4))))"
      ],
      "execution_count": null,
      "outputs": [
        {
          "output_type": "stream",
          "text": [
            "[1, 2, 3, 4, 8, 12, 16, 15, 14, 13, 9, 5, 6, 7, 11, 10]\n",
            "[1, 2, 3, 4, 8, 12, 11, 10, 9, 5, 6, 7]\n"
          ],
          "name": "stdout"
        }
      ]
    },
    {
      "cell_type": "markdown",
      "metadata": {
        "id": "KjonOwOudf4V",
        "colab_type": "text"
      },
      "source": [
        "# 面试题30：包含min函数的栈\n",
        "\n",
        "题目：定义栈的数据结构，请在该类型中实现一个能够得到栈的最小元素的min函数，在该栈中，调用min、push及pop的时间复杂度都是O(1)。\n",
        "\n",
        "解题思路：维护一个与数据栈等长的辅助栈，存储数据栈从栈顶到栈低对应位置的最小元素。"
      ]
    },
    {
      "cell_type": "code",
      "metadata": {
        "id": "EzR_dQ1BozGU",
        "colab_type": "code",
        "colab": {
          "base_uri": "https://localhost:8080/",
          "height": 52
        },
        "outputId": "edbf2a16-cecc-442d-d027-1c64bb6f8712"
      },
      "source": [
        "class MinStack(object):\n",
        "    def __init__(self):\n",
        "        self.stack = []\n",
        "        self.buffer = []\n",
        "    \n",
        "    def pop(self):\n",
        "        self.buffer.pop()\n",
        "        return self.stack.pop()\n",
        "\n",
        "    def push(self, value):\n",
        "        self.stack.append(value)\n",
        "        if self.buffer and value > self.buffer[-1]:\n",
        "            self.buffer.append(self.buffer[-1])\n",
        "        else:\n",
        "            self.buffer.append(value)\n",
        "\n",
        "    def min(self):\n",
        "        return self.buffer[-1]\n",
        "\n",
        "\n",
        "stack = MinStack()\n",
        "stack.push(3)\n",
        "stack.push(4)\n",
        "stack.push(2)\n",
        "stack.push(1)\n",
        "print(stack.stack, stack.buffer)\n",
        "stack.pop()\n",
        "stack.pop()\n",
        "stack.push(0)\n",
        "print(stack.stack, stack.buffer)"
      ],
      "execution_count": null,
      "outputs": [
        {
          "output_type": "stream",
          "text": [
            "[3, 4, 2, 1] [3, 3, 2, 1]\n",
            "[3, 4, 0] [3, 3, 0]\n"
          ],
          "name": "stdout"
        }
      ]
    },
    {
      "cell_type": "markdown",
      "metadata": {
        "id": "IaaVepQVqXFu",
        "colab_type": "text"
      },
      "source": [
        "# 面试题31：栈的压入、弹出序列\n",
        "\n",
        "题目：输入两个整数序列，第一个序列表示栈的压入顺序，请判断第二个序列是否为该栈的弹出顺序。假设压入栈的所有数字均不相等。例如，序列{1,2,3,4,5}是某栈的压栈序列，序列{4,5,3,2,1}是该压栈序列对应的一个弹出序列，但{4,3,5,1,2}就不可能是该压栈序列的弹出序列。\n",
        "\n",
        "解题思路：建立一个辅助栈"
      ]
    },
    {
      "cell_type": "code",
      "metadata": {
        "id": "KB3mwZjmtVpK",
        "colab_type": "code",
        "colab": {
          "base_uri": "https://localhost:8080/",
          "height": 318
        },
        "outputId": "a3e712d0-7022-4474-9258-b153b024871e"
      },
      "source": [
        "def is_pop_order(push_order, pop_order):\n",
        "    stack = []\n",
        "    while push_order or pop_order:\n",
        "        print(push_order, pop_order, stack)\n",
        "        if push_order:\n",
        "            if push_order[0] == pop_order[0]:\n",
        "                push_order.pop(0)\n",
        "                pop_order.pop(0)\n",
        "            elif stack and pop_order[0] == stack[-1]:\n",
        "                pop_order.pop(0)\n",
        "                stack.pop(-1)\n",
        "            else:\n",
        "                stack.append(push_order.pop(0))\n",
        "        elif stack and stack[-1] == pop_order[0]:\n",
        "            stack.pop(-1)\n",
        "            pop_order.pop(0)\n",
        "        else:\n",
        "            return False\n",
        "    return True\n",
        "\n",
        "\n",
        "print(is_pop_order([1,2,3,4,5], [4,5,3,2,1]))\n",
        "print(is_pop_order([1,2,3,4,5], [4,3,5,1,2]))"
      ],
      "execution_count": null,
      "outputs": [
        {
          "output_type": "stream",
          "text": [
            "[1, 2, 3, 4, 5] [4, 5, 3, 2, 1] []\n",
            "[2, 3, 4, 5] [4, 5, 3, 2, 1] [1]\n",
            "[3, 4, 5] [4, 5, 3, 2, 1] [1, 2]\n",
            "[4, 5] [4, 5, 3, 2, 1] [1, 2, 3]\n",
            "[5] [5, 3, 2, 1] [1, 2, 3]\n",
            "[] [3, 2, 1] [1, 2, 3]\n",
            "[] [2, 1] [1, 2]\n",
            "[] [1] [1]\n",
            "True\n",
            "[1, 2, 3, 4, 5] [4, 3, 5, 1, 2] []\n",
            "[2, 3, 4, 5] [4, 3, 5, 1, 2] [1]\n",
            "[3, 4, 5] [4, 3, 5, 1, 2] [1, 2]\n",
            "[4, 5] [4, 3, 5, 1, 2] [1, 2, 3]\n",
            "[5] [3, 5, 1, 2] [1, 2, 3]\n",
            "[5] [5, 1, 2] [1, 2]\n",
            "[] [1, 2] [1, 2]\n",
            "False\n"
          ],
          "name": "stdout"
        }
      ]
    },
    {
      "cell_type": "markdown",
      "metadata": {
        "id": "NvtU6cU4wiSJ",
        "colab_type": "text"
      },
      "source": [
        "# 面试题32：从上到下打印二叉树\n",
        "\n",
        "题目一：不分行从上到下打印二叉树。\n",
        "\n",
        "使用面试题26定义的二叉树类、二叉树初始化函数，生成二叉树：\n",
        "\n",
        "```\n",
        "       8               \n",
        "     /   \\           \n",
        "    8     7         \n",
        "  /   \\\n",
        " 9      2\n",
        "      /   \\\n",
        "     4     7\n",
        "```"
      ]
    },
    {
      "cell_type": "code",
      "metadata": {
        "id": "u2yZKZAr_t2T",
        "colab_type": "code",
        "colab": {
          "base_uri": "https://localhost:8080/",
          "height": 34
        },
        "outputId": "9da8f51a-0d4c-46b7-e921-e7d889248bfb"
      },
      "source": [
        "root = initialize_binary_tree([8, 8, 7, 9, 2, None, None, None, None, 4, 7])\n",
        "\n",
        "\n",
        "def brodcast_first(root):\n",
        "    values = []\n",
        "    if root is not None:\n",
        "        queue = [root]\n",
        "        while queue:\n",
        "            node = queue.pop(0)\n",
        "            values.append(node.value)\n",
        "            if node.left is not None:\n",
        "                queue.append(node.left)\n",
        "            if node.right is not None:\n",
        "                queue.append(node.right)\n",
        "    return values\n",
        "\n",
        "\n",
        "brodcast_first(root)"
      ],
      "execution_count": null,
      "outputs": [
        {
          "output_type": "execute_result",
          "data": {
            "text/plain": [
              "[8, 8, 7, 9, 2, 4, 7]"
            ]
          },
          "metadata": {
            "tags": []
          },
          "execution_count": 9
        }
      ]
    },
    {
      "cell_type": "markdown",
      "metadata": {
        "id": "pQs7KeuyAQ_U",
        "colab_type": "text"
      },
      "source": [
        "题目二：分行从上到下打印二叉树\n",
        "\n"
      ]
    },
    {
      "cell_type": "code",
      "metadata": {
        "id": "sK8pbaOzBqgo",
        "colab_type": "code",
        "colab": {
          "base_uri": "https://localhost:8080/",
          "height": 52
        },
        "outputId": "c85307b2-2f3b-4b51-97fb-32aa041f3571"
      },
      "source": [
        "def brodcast_first1(root):\n",
        "    values = []\n",
        "    if root is not None:\n",
        "    queue = [root]\n",
        "        while queue:\n",
        "            row_values = []\n",
        "            for i in range(len(queue)):\n",
        "                node = queue.pop(0)\n",
        "                row_values.append(node.value)\n",
        "                if node.left is not None:\n",
        "                    queue.append(node.left)\n",
        "                if node.right is not None:\n",
        "                    queue.append(node.right)\n",
        "            values.append(row_values)\n",
        "    return values\n",
        "\n",
        "\n",
        "print(brodcast_first1(root))\n",
        "print(brodcast_first1(initialize_binary_tree(list(range(1, 16)))))"
      ],
      "execution_count": null,
      "outputs": [
        {
          "output_type": "stream",
          "text": [
            "[[8], [8, 7], [9, 2], [4, 7]]\n",
            "[[1], [2, 3], [4, 5, 6, 7], [8, 9, 10, 11, 12, 13, 14, 15]]\n"
          ],
          "name": "stdout"
        }
      ]
    },
    {
      "cell_type": "markdown",
      "metadata": {
        "id": "21ZXI-uhC3xw",
        "colab_type": "text"
      },
      "source": [
        "# 面试题33：二叉搜索树的后序遍历序列\n",
        "\n",
        "题目：输入一个整数数组，判断该数组是不是某二叉搜索树的后序遍历结果。例如，输入数组{5,7,6,9,11,10,8}，则返回True；如果输入数组是{7,4,6,5}，则由于没有哪颗二叉搜索树的后序遍历结果是这个序列，返回False。\n",
        "\n",
        "解题思路：二叉搜索树的特点是：左子树所有节点小于根节点，右子树所有节点大于根节点。由于后序遍历数组最右侧元素对应为根节点元素，可将数组划分为单节点二叉树，所有靠近根节点大于根节点值的元素为右子树节点，其余为左子树节点。\n",
        "\n",
        "（注：考虑重复值位于右子树）"
      ]
    },
    {
      "cell_type": "code",
      "metadata": {
        "id": "QiPdxeh9EAto",
        "colab_type": "code",
        "colab": {
          "base_uri": "https://localhost:8080/",
          "height": 52
        },
        "outputId": "ba22f4ec-3aa8-48c3-e46b-f7817a010bb3"
      },
      "source": [
        "def is_binary_search_tree(post_order):\n",
        "    if len(post_order) < 3:\n",
        "        return True\n",
        "    root = post_order[-1]\n",
        "    i = 0\n",
        "    while i < len(post_order) - 1:\n",
        "        if post_order[i] >= root:\n",
        "            break\n",
        "        i += 1\n",
        "    for j in range(i + 1, len(post_order) - 1):\n",
        "        if post_order[j] < root:\n",
        "            return False\n",
        "    return is_binary_search_tree(post_order[:i]) and is_binary_search_tree(post_order[i:-1])\n",
        "    \n",
        "    \n",
        "print(is_binary_search_tree([5,7,6,9,11,10,8]))\n",
        "print(is_binary_search_tree([7,4,6,5]))"
      ],
      "execution_count": null,
      "outputs": [
        {
          "output_type": "stream",
          "text": [
            "True\n",
            "False\n"
          ],
          "name": "stdout"
        }
      ]
    },
    {
      "cell_type": "markdown",
      "metadata": {
        "id": "bgwo-HLpTzR0",
        "colab_type": "text"
      },
      "source": [
        "# 面试题34：二叉树中和为某一值的路径\n",
        "\n",
        "题目：输入一棵二叉树和一个整数，打印出二叉树中节点值的和为输入整数的所有路径。从树的根节点开始往下一直到叶节点所经过的节点形成一条路径。"
      ]
    },
    {
      "cell_type": "code",
      "metadata": {
        "id": "rI9BfiOcevqc",
        "colab_type": "code",
        "colab": {
          "base_uri": "https://localhost:8080/",
          "height": 87
        },
        "outputId": "4df27903-cebf-4c54-bb4d-e0889a27b370"
      },
      "source": [
        "def find_path(node):\n",
        "    \"\"\"查找所有子路径\"\"\"\n",
        "    if node is None:\n",
        "        return [], []\n",
        "    node_path, sub_path = [[node.value]], []\n",
        "    if node.left is not None:\n",
        "        path1, path2 = find_path(node.left)\n",
        "        for path in path1:\n",
        "            node_path.append([node.value] + path)\n",
        "        sub_path.extend(path1)\n",
        "    if node.right is not None:\n",
        "        path1, path2 = find_path(node.right)\n",
        "        for path in path1:\n",
        "            node_path.append([node.value] + path)\n",
        "        sub_path.extend(path1)\n",
        "    return node_path, sub_path\n",
        "\n",
        "\n",
        "def find_all_path(root, num):\n",
        "    node_path, sub_path = find_path(root)\n",
        "    all_paths = node_path + sub_path\n",
        "    paths = []\n",
        "    print(all_paths)\n",
        "    for path in all_paths:\n",
        "        if sum(path) == num:\n",
        "            paths.append(path)\n",
        "    return paths\n",
        "\n",
        "\n",
        "tree = initialize_binary_tree(list(range(10)))\n",
        "# find_all_path(tree, 7)\n",
        "\n",
        "\n",
        "def find_root_path(root, num, path=[], path_sum=0):\n",
        "    \"\"\"仅查找根节点出发的路径，假设不存在负数\"\"\"\n",
        "    if root is None:\n",
        "        return\n",
        "    path.append(root)\n",
        "    path_sum += root.value\n",
        "    if path_sum >= num:\n",
        "        if path_sum == num:\n",
        "            print([node.value for node in path])\n",
        "    if path_sum < num:\n",
        "        find_root_path(root.left, num, path, path_sum)\n",
        "        find_root_path(root.right, num, path, path_sum)\n",
        "    path.pop()\n",
        "\n",
        "\n",
        "tree = initialize_binary_tree([0, 1, 2, 2, 3, 4, 8, 6, 4, 5, 5, 1, 3])\n",
        "find_root_path(tree, 9)"
      ],
      "execution_count": null,
      "outputs": [
        {
          "output_type": "stream",
          "text": [
            "[0, 1, 2, 6]\n",
            "[0, 1, 3, 5]\n",
            "[0, 1, 3, 5]\n",
            "[0, 2, 4, 3]\n"
          ],
          "name": "stdout"
        }
      ]
    },
    {
      "cell_type": "markdown",
      "metadata": {
        "id": "yOeJOo7ifJ9u",
        "colab_type": "text"
      },
      "source": [
        "# 面试题35：复杂链表的复制\n",
        "实现一个复制复杂链表的函数，在复杂链表中，每个节点除了有一个指向下一个节点的指针，还包含一个指向链表任意节点的指针或null。"
      ]
    },
    {
      "cell_type": "code",
      "metadata": {
        "id": "LCOoJ7-QLybT",
        "colab_type": "code",
        "colab": {
          "base_uri": "https://localhost:8080/",
          "height": 34
        },
        "outputId": "22678d70-13fb-4a99-a3c8-40497327f716"
      },
      "source": [
        "class ComplexListNode(object):\n",
        "    def __init__(self, value, next=None, sibling=None):\n",
        "        self.value = value\n",
        "        self.next = next\n",
        "        self.sibling = sibling\n",
        "\n",
        "    def __repr__(self):\n",
        "        if self.next is None:\n",
        "            next = 'None'\n",
        "        else:\n",
        "            next = self.next.value\n",
        "        next = None if self.next is None else self.next.value\n",
        "        sibling = None if self.sibling is None else self.sibling.value\n",
        "        return '{}->{},{}'.format(self.value, next, sibling)\n",
        "\n",
        "def get_list_values(head):\n",
        "    values = []\n",
        "    while head is not None:\n",
        "        values.append(repr(head))\n",
        "        head = head.next\n",
        "    return values\n",
        "\n",
        "\n",
        "node_a = ComplexListNode('A')\n",
        "node_b = ComplexListNode('B')\n",
        "node_c = ComplexListNode('C')\n",
        "node_d = ComplexListNode('D')\n",
        "node_e = ComplexListNode('E')\n",
        "node_a.next, node_a.sibling = node_b, node_c\n",
        "node_b.next, node_b.sibling = node_c, node_e\n",
        "node_c.next, node_c.sibling = node_d, None\n",
        "node_d.next, node_d.sibling = node_e, node_b\n",
        "head = node_a\n",
        "\n",
        "\n",
        "def copy_complex_list(head):\n",
        "    node = head\n",
        "    # 第一复制当前链表中所有节点作为自身的下一个节点\n",
        "    while node is not None:\n",
        "        next_node = node.next\n",
        "        copy_code = ComplexListNode(node.value)\n",
        "        node.next = copy_code\n",
        "        copy_code.next = next_node\n",
        "        node = next_node\n",
        "    # 第二步复制指向任意节点的指针\n",
        "    node = head\n",
        "    while node is not None:\n",
        "        if node.sibling is not None:\n",
        "            node.next.sibling = node.sibling\n",
        "        node = node.next.next\n",
        "    # 第三部拆分链表\n",
        "    node = head\n",
        "    new_head = node.next\n",
        "    while node is not None and node.next is not None:\n",
        "        next_node = node.next\n",
        "        node.next = node.next.next\n",
        "        node = next_node\n",
        "    return new_head\n",
        "\n",
        "\n",
        "new_head = copy_complex_list(head)\n",
        "get_list_values(new_head)"
      ],
      "execution_count": null,
      "outputs": [
        {
          "output_type": "execute_result",
          "data": {
            "text/plain": [
              "['A->B,C', 'B->C,E', 'C->D,None', 'D->E,B', 'E->None,None']"
            ]
          },
          "metadata": {
            "tags": []
          },
          "execution_count": 72
        }
      ]
    },
    {
      "cell_type": "markdown",
      "metadata": {
        "id": "GzgFF8V8UwUd",
        "colab_type": "text"
      },
      "source": [
        "# 面试题36：二叉搜索树与双向链表\n",
        "\n",
        "题目：输入一棵二叉搜索树，将该二叉树转换成一个排序的双向链表。要求不能创建任何新的节点，只能调整树中节点指针的指向。\n",
        "\n",
        "解题思路：二叉搜索树后序遍历序列为排序序列，将后序序列中各节点（左右指针变为前后指针）建立为双向连接。"
      ]
    },
    {
      "cell_type": "code",
      "metadata": {
        "id": "KPr7n4dXcjTi",
        "colab_type": "code",
        "colab": {
          "base_uri": "https://localhost:8080/",
          "height": 34
        },
        "outputId": "8f30c745-5652-4cf7-e249-59de90cdaa3f"
      },
      "source": [
        "def bst2bi_list(bst_root):\n",
        "    \"\"\"二叉搜索树转双向链表\"\"\"\n",
        "    # 记录后序遍历上次遍历的节点，使用list模仿指针\n",
        "    last = [None]\n",
        "    def convert_node(node):\n",
        "        if node is None:\n",
        "            return\n",
        "        convert_node(node.left)\n",
        "        if last[0] is not None:\n",
        "            last_node = last[0]\n",
        "            last_node.right = node\n",
        "            node.left = last_node\n",
        "        last[0] = node\n",
        "        convert_node(node.right)\n",
        "    \n",
        "    convert_node(bst_root)\n",
        "    root = bst_root\n",
        "    while root.left is not None:\n",
        "        root = root.left\n",
        "    return root\n",
        "\n",
        "def get_bilist(root, direction='right'):\n",
        "    values = []\n",
        "    while root is not None:\n",
        "        values.append(root.value)\n",
        "        root = root.right\n",
        "    return values\n",
        "\n",
        "bst_root = initialize_binary_tree([10,6,14,4,8,12,16])\n",
        "get_bilist(bst2bi_list(bst_root))"
      ],
      "execution_count": null,
      "outputs": [
        {
          "output_type": "execute_result",
          "data": {
            "text/plain": [
              "[4, 6, 8, 10, 12, 14, 16]"
            ]
          },
          "metadata": {
            "tags": []
          },
          "execution_count": 111
        }
      ]
    },
    {
      "cell_type": "markdown",
      "metadata": {
        "id": "v5ZQCE2amFVi",
        "colab_type": "text"
      },
      "source": [
        "# 面试题37：序列化二叉树\n",
        "\n",
        "题目：请实现两个函数，分别用来序列化和反序列化二叉树。如序列化的前序遍历二叉树为：\n",
        "```shell\n",
        "1,2,4,$,$,$,3,5,$,$,6,$,$\n",
        "```"
      ]
    },
    {
      "cell_type": "code",
      "metadata": {
        "id": "XMI4oX9VAOqq",
        "colab_type": "code",
        "colab": {
          "base_uri": "https://localhost:8080/",
          "height": 51
        },
        "outputId": "e78652c6-535e-403f-99af-a31bf4507dff"
      },
      "source": [
        "tree = initialize_binary_tree([1,2,3,4,None,5,6])\n",
        "\n",
        "\n",
        "def serialize(root):\n",
        "    def _serialize(node):\n",
        "        if node is None:\n",
        "            res.append('$')\n",
        "            return \n",
        "        res.append(str(node.value))\n",
        "        _serialize(node.left)\n",
        "        _serialize(node.right)\n",
        "\n",
        "    res = []\n",
        "    _serialize(root)\n",
        "    return ','.join(res)\n",
        "\n",
        "\n",
        "def deserialize(stream, node=None, child='left'):\n",
        "    if isinstance(stream, str):\n",
        "        stream = stream.split(',')\n",
        "    if not stream:\n",
        "        return\n",
        "    value = stream.pop(0)\n",
        "    if value == '$':\n",
        "        return\n",
        "    new_node = BTNode(value)\n",
        "    if node is not None:\n",
        "        setattr(node, child, new_node)\n",
        "    # 重构左节点，下次创建当前节点的左节点\n",
        "    deserialize(stream, new_node, 'left')\n",
        "    # 重构右节点\n",
        "    deserialize(stream, new_node, 'right')\n",
        "    return new_node\n",
        "\n",
        "\n",
        "stream_tree = serialize(tree)\n",
        "print(stream_tree)\n",
        "stream_tree = serialize(deserialize(stream_tree))\n",
        "print(stream_tree)"
      ],
      "execution_count": null,
      "outputs": [
        {
          "output_type": "stream",
          "text": [
            "1,2,4,$,$,$,3,5,$,$,6,$,$\n",
            "1,2,4,$,$,$,3,5,$,$,6,$,$\n"
          ],
          "name": "stdout"
        }
      ]
    },
    {
      "cell_type": "markdown",
      "metadata": {
        "id": "ShdmJCjMAxWh",
        "colab_type": "text"
      },
      "source": [
        "# 面试题38：字符串的排列（排列组合问题）\n",
        "\n",
        "题目：输入一个字符串，打印该字符串中字符的所有排列。例如输入字符串abc，打印a、b、c所能排列出来的所有字符串abc、acb、bac、bca、cab和cba。\n"
      ]
    },
    {
      "cell_type": "code",
      "metadata": {
        "id": "E4lydp8Fs3Ye",
        "colab_type": "code",
        "colab": {
          "base_uri": "https://localhost:8080/",
          "height": 121
        },
        "outputId": "a1e388aa-629e-4f17-cda3-d92b97d6cdbf"
      },
      "source": [
        "def perm_string(string, begin=0):\n",
        "    if isinstance(string, str):\n",
        "        string = list(string)\n",
        "    if begin == len(string):\n",
        "        print(string)\n",
        "    for i in range(begin, len(string)):\n",
        "        if i != begin:\n",
        "            string[i], string[begin] = string[begin], string[i]\n",
        "        comnination_string(string, begin+1)\n",
        "        if i != begin:\n",
        "            string[i], string[begin] = string[begin], string[i]\n",
        "\n",
        "comnination_string('abc')"
      ],
      "execution_count": null,
      "outputs": [
        {
          "output_type": "stream",
          "text": [
            "['a', 'b', 'c']\n",
            "['a', 'c', 'b']\n",
            "['b', 'a', 'c']\n",
            "['b', 'c', 'a']\n",
            "['c', 'b', 'a']\n",
            "['c', 'a', 'b']\n"
          ],
          "name": "stdout"
        }
      ]
    },
    {
      "cell_type": "markdown",
      "metadata": {
        "id": "ZrrRgVZbaX1d",
        "colab_type": "text"
      },
      "source": [
        "题目：求所有字符的组合。\n",
        "\n",
        "解题思路：如果输入n个字符，则这n个字符能构成长度为1,2,...,n的组合。在求n个字符的长度m(1<=m<=n)的组合的时候，把n个字符分成两部分：第一个字符和余下所有字符，递归的查找：\n",
        "- 包含第一个字符和在余下所有字符中查找m-1个字符；\n",
        "- 余下所有字符中查找m个字符；"
      ]
    },
    {
      "cell_type": "code",
      "metadata": {
        "id": "bF1aLVkgt0kl",
        "colab_type": "code",
        "colab": {
          "base_uri": "https://localhost:8080/",
          "height": 553
        },
        "outputId": "2cb82ba5-5538-4406-fdda-adf0ee0e1a75"
      },
      "source": [
        "def comn_string(string):\n",
        "\n",
        "    def wrapper(string, start, num):\n",
        "        if len(string) - start == num:\n",
        "            return [string[start:]]\n",
        "        if num == 1:\n",
        "            ans1 = [[string[start]]]\n",
        "        else:\n",
        "            ans1 = wrapper(string, start + 1, num - 1)\n",
        "            ans1 = [[string[start]] + ele for ele in ans1]\n",
        "        ans2 = wrapper(string, start + 1, num)\n",
        "        return ans1 + ans2\n",
        "\n",
        "    ans = []\n",
        "    for i in range(1, len(string) + 1):\n",
        "        ans.extend(wrapper(list(string), 0, i))\n",
        "    return ans\n",
        "\n",
        "# comn_string('1234')\n",
        "\n",
        "\n",
        "def combine(array, n):\n",
        "    def func(m, z):\n",
        "        \"\"\"\n",
        "        m：当前动态替换哪一位\n",
        "        z：m位可以填充哪些数值\n",
        "        \"\"\"\n",
        "        if n == m:\n",
        "            print(buf)\n",
        "            return\n",
        "        for i in range(z, len(array)):\n",
        "            buf[m] = array[i]\n",
        "            # m+1位只能使用array中i+1及其后的值\n",
        "            func(m + 1, i + 1)\n",
        "\n",
        "    buf = [None] * n\n",
        "    func(0, 0)\n",
        "\n",
        "combine('1234', 3)\n",
        "\n",
        "\n",
        "def permutate(array):\n",
        "    def func(m):\n",
        "        if m == len(array):\n",
        "            print(buf)\n",
        "            return\n",
        "        for i in range(len(array)):\n",
        "            buf[m] = i\n",
        "            func(m + 1)\n",
        "\n",
        "    buf = [None] * len(array)\n",
        "    func(0)\n",
        "\n",
        "\n",
        "permutate('123')"
      ],
      "execution_count": null,
      "outputs": [
        {
          "output_type": "stream",
          "text": [
            "['1', '2', '3']\n",
            "['1', '2', '4']\n",
            "['1', '3', '4']\n",
            "['2', '3', '4']\n",
            "[0, 0, 0]\n",
            "[0, 0, 1]\n",
            "[0, 0, 2]\n",
            "[0, 1, 0]\n",
            "[0, 1, 1]\n",
            "[0, 1, 2]\n",
            "[0, 2, 0]\n",
            "[0, 2, 1]\n",
            "[0, 2, 2]\n",
            "[1, 0, 0]\n",
            "[1, 0, 1]\n",
            "[1, 0, 2]\n",
            "[1, 1, 0]\n",
            "[1, 1, 1]\n",
            "[1, 1, 2]\n",
            "[1, 2, 0]\n",
            "[1, 2, 1]\n",
            "[1, 2, 2]\n",
            "[2, 0, 0]\n",
            "[2, 0, 1]\n",
            "[2, 0, 2]\n",
            "[2, 1, 0]\n",
            "[2, 1, 1]\n",
            "[2, 1, 2]\n",
            "[2, 2, 0]\n",
            "[2, 2, 1]\n",
            "[2, 2, 2]\n"
          ],
          "name": "stdout"
        }
      ]
    },
    {
      "cell_type": "markdown",
      "metadata": {
        "id": "RnJarYU1n5M4",
        "colab_type": "text"
      },
      "source": [
        "# 面试题39：数组中出现次数超过一半的数字\n",
        "\n",
        "题目：数组中有一个数字出现的次数超过数组长度的一半，请找出这个数字。例如，输入一个长度为9的数组{1,2,3,2,2,2,5,4,2}。由于数字2在数组中出现了5次，超过数组长度的一半，因此输出2.\n",
        "\n",
        "解题思路：排序后大于一半的数字一定位于中间位置，因此根据快排思想找到中间位置元素即可。换种思路，超过一半的数字出现的次数大于其余数字之和，因此我们保存一个数字，并遍历数组，如果数字和保存数字不同，计数减1，当计数为0，则替换保存数字并计数为1；如果数字和保存数字相同，计数加1。"
      ]
    },
    {
      "cell_type": "code",
      "metadata": {
        "id": "UlgT-b0VMlQv",
        "colab_type": "code",
        "colab": {
          "base_uri": "https://localhost:8080/",
          "height": 34
        },
        "outputId": "592f3254-614a-47d0-8617-2d05e0c3325e"
      },
      "source": [
        "# 快速排序复习\n",
        "def quick_sort(array, start=0, end=None):\n",
        "    if end is None:\n",
        "        end = len(array) - 1\n",
        "    if start >= end:\n",
        "        return \n",
        "    pivot = array[start]\n",
        "    i, j = start, end\n",
        "    while i < j:\n",
        "        while i < j and array[j] >= pivot:\n",
        "            j -= 1\n",
        "        if i < j:\n",
        "            array[i] = array[j]\n",
        "            i += 1\n",
        "        while i < j and array[i] <= pivot:\n",
        "            i += 1\n",
        "        if i < j:\n",
        "            array[j] = array[i]\n",
        "            j -= 1\n",
        "    array[i] = pivot\n",
        "    quick_sort(array, start, i - 1)\n",
        "    quick_sort(array, i + 1, end)\n",
        "    return array\n",
        "\n",
        "array = [1,2,5,0,1,8,9,3]\n",
        "print(quick_sort(array))"
      ],
      "execution_count": 18,
      "outputs": [
        {
          "output_type": "stream",
          "text": [
            "[0, 1, 1, 2, 3, 5, 8, 9]\n"
          ],
          "name": "stdout"
        }
      ]
    },
    {
      "cell_type": "code",
      "metadata": {
        "id": "5aojygY5WPkm",
        "colab_type": "code",
        "colab": {
          "base_uri": "https://localhost:8080/",
          "height": 34
        },
        "outputId": "1d510f5e-4d7a-4b5c-f19e-b02c5475b1cd"
      },
      "source": [
        "def partition(array, start, end):\n",
        "    pivot = array[start]\n",
        "    while start < end:\n",
        "        while start < end and array[end] >= pivot:\n",
        "            end -= 1\n",
        "        if start < end:\n",
        "            array[start] = array[end]\n",
        "            start += 1\n",
        "        while start < end and array[start] <= pivot:\n",
        "            start += 1\n",
        "        if start < end:\n",
        "            array[end] = array[start]\n",
        "    array[start] = pivot\n",
        "    return start, pivot\n",
        "\n",
        "def find_kth_max(array, k, start=0, end=None):\n",
        "    \"\"\"根据快排思想，查询数组第k大\"\"\"\n",
        "    if end is None:\n",
        "        end = len(array) - 1\n",
        "    n = len(array)\n",
        "    if k > n or k < 1:\n",
        "        raise ValueError('k is invalid!')\n",
        "    i, value = 0, array[start]\n",
        "    while True:\n",
        "        i, value = partition(array, start, end)\n",
        "        if n - i == k:\n",
        "            return value\n",
        "        elif n - i > k:\n",
        "            start = i + 1\n",
        "        else:\n",
        "            end = i - 1\n",
        "    return value\n",
        "\n",
        "\n",
        "array = [1,2,3,2,2,2,5,4,2]\n",
        "k = int(len(array) / 2)\n",
        "find_kth_max(array, k) \n",
        "\n",
        "\n",
        "def count_more_than_half(array):\n",
        "    if not array:\n",
        "        return None\n",
        "    value, count = array[0], 1\n",
        "    for v in array[1:]:\n",
        "        if v == value:\n",
        "            count += 1\n",
        "        elif count == 1:\n",
        "            value = v\n",
        "        else:\n",
        "            count -= 1\n",
        "    return value\n",
        "\n",
        "\n",
        "print(count_more_than_half(array))"
      ],
      "execution_count": 52,
      "outputs": [
        {
          "output_type": "stream",
          "text": [
            "2\n"
          ],
          "name": "stdout"
        }
      ]
    },
    {
      "cell_type": "markdown",
      "metadata": {
        "id": "Yj-5gt93r_k_",
        "colab_type": "text"
      },
      "source": [
        "# 面试题40：最小的k个数"
      ]
    },
    {
      "cell_type": "code",
      "metadata": {
        "id": "Wm-qWmVxQfaP",
        "colab_type": "code",
        "colab": {
          "base_uri": "https://localhost:8080/",
          "height": 34
        },
        "outputId": "ad82a210-a7f1-40f3-fe31-33423d42aa54"
      },
      "source": [
        "def partition(array, start, end):\n",
        "    if start >= end:\n",
        "        return start\n",
        "    pivot = array[start]\n",
        "    while start < end:\n",
        "        while start < end and array[end] >= pivot:\n",
        "            end -= 1\n",
        "        if start < end:\n",
        "            array[start] = array[end]\n",
        "            start += 1\n",
        "        while start < end and array[start] <= pivot:\n",
        "            start += 1\n",
        "        if start < end:\n",
        "            array[end] = array[start]\n",
        "    array[start] = pivot\n",
        "    return start\n",
        "\n",
        "# 允许修改原数组，使用快速排序partition\n",
        "def find_k_min(array, k):\n",
        "    if len(array) <= k:\n",
        "        return array\n",
        "    start, end = 0, len(array) - 1\n",
        "    i = 0\n",
        "    while i != k - 1:\n",
        "        i = partition(array, start, end)\n",
        "        if i < k:\n",
        "            start = i + 1\n",
        "        else:\n",
        "            end = i - 1\n",
        "    return array[:k]\n",
        "\n",
        "\n",
        "find_k_min(list(range(10)), 3)"
      ],
      "execution_count": 57,
      "outputs": [
        {
          "output_type": "execute_result",
          "data": {
            "text/plain": [
              "[0, 1, 2]"
            ]
          },
          "metadata": {
            "tags": []
          },
          "execution_count": 57
        }
      ]
    },
    {
      "cell_type": "code",
      "metadata": {
        "id": "3rW2a5amRz3i",
        "colab_type": "code",
        "colab": {}
      },
      "source": [
        ""
      ],
      "execution_count": null,
      "outputs": []
    }
  ]
}